{
 "cells": [
  {
   "cell_type": "markdown",
   "metadata": {},
   "source": [
    "# Learning and Decision Making"
   ]
  },
  {
   "cell_type": "markdown",
   "metadata": {},
   "source": [
    "## Laboratory 5: Reinforcement learning\n",
    "\n",
    "In the end of the lab, you should export the notebook to a Python script (File >> Download as >> Python (.py)). Your file should be named `padi-lab5-groupXX.py`, where the `XX` corresponds to your group number and should be submitted to the e-mail <adi.tecnico@gmail.com>. \n",
    "\n",
    "Make sure...\n",
    "\n",
    "* **... that the subject is of the form `[<group n.>] LAB <lab n.>`.** \n",
    "\n",
    "* **... to strictly respect the specifications in each activity, in terms of the intended inputs, outputs and naming conventions.** \n",
    "\n",
    "In particular, after completing the activities you should be able to replicate the examples provided (although this, in itself, is no guarantee that the activities are correctly completed).\n",
    "\n",
    "### 1. The MDP Model \n",
    "\n",
    "In this lab you will implement several reinforcement learning algorithms, and use the \"Doom\" domain, from Lab 2, to test and compare these algorithms. Don't forget, however, that your functions should work for **any MDP** and not just the one provided. \n",
    "\n",
    "The \"Doom\" domain to be used is represented in the diagram below.\n",
    "\n",
    "<img src=\"maze.png\" width=\"400px\">\n",
    "\n",
    "In the doom domain above,\n",
    "\n",
    "* The agent can move in any of the four directions: up, down, left, and right. \n",
    "* Movement across a grey cell division succeeds with a 0.8 probability and fails with a 0.2 probability. \n",
    "* Movements across colored cell divisions (blue or red) succeed with a 0.8 probability (and fail with a probability 0.2) only if the agent has the corresponding colored key. Otherwise, they fail with probability 1. To get a colored key, the agent simply needs to stand in the corresponding cell.\n",
    "* When the movement fails, the agent remains in the same cell. \n",
    "* The action that takes the agent through the exit always succeeds.  \n",
    "\n",
    "We consider that the agent is never in a cell $c\\geq 17$ without a red key, and is never in a cell $c\\geq28$ without a blue key. **Throughout the lab, unless if stated otherwise, use $\\gamma=0.9$.**\n",
    "\n",
    "$$\\diamond$$\n",
    "\n",
    "We start by loading the MDP for the \"Doom\" domain from the file `doom.npz`. We will use this domain as an example to illustrate the different functions/algorithms you are expected to deploy. The file contains both the MDP, described as a tuple like those from Lab 2, and the corresponding optimal $Q$-function.\n",
    "\n",
    "To do so, you can run the code\n",
    "```python\n",
    "import numpy as np\n",
    "\n",
    "mdp_info = np.load('doom.npz', allow_pickle=True)\n",
    "\n",
    "# The MDP is a tuple (X, A, P, c, gamma)\n",
    "M = mdp_info['M']\n",
    "\n",
    "# We also load the optimal Q-function for the MDP\n",
    "Qopt = mdp_info['Q']\n",
    "```\n",
    "\n",
    "---\n",
    "\n",
    "In the first activity, you will implement a function that enables you to sample a transition from a given MDP. You will then use this function, in subsequent activities, to generate the data that your agent will use to learn."
   ]
  },
  {
   "cell_type": "code",
   "execution_count": 1,
   "metadata": {},
   "outputs": [],
   "source": [
    "import numpy as np\n",
    "\n",
    "mdp_info = np.load('doom.npz', allow_pickle=True)\n",
    "\n",
    "# The MDP is a tuple (X, A, P, c, gamma)\n",
    "M = mdp_info['M']\n",
    "\n",
    "# We also load the optimal Q-function for the MDP\n",
    "Qopt = mdp_info['Q']"
   ]
  },
  {
   "cell_type": "markdown",
   "metadata": {},
   "source": [
    "---\n",
    "\n",
    "#### Activity 1.        \n",
    "\n",
    "Write a function named `sample_transition` that receives, as input, a tuple representing an arbitrary MDP as well as two integers, `s` and `a`, corresponding to a state and an action. The function should return a tuple `(s, a, c, s')`, where `c` is the cost associated with performing action `a` in state `s` and `s'` is a state generated from `s` upon selecting action `a`, according to the transition probabilities for the MDP.\n",
    "\n",
    "**Note:** Don't forget to import `numpy.random` to generate the state `s'`.\n",
    "\n",
    "---"
   ]
  },
  {
   "cell_type": "code",
   "execution_count": 2,
   "metadata": {
    "ExecuteTime": {
     "end_time": "2019-12-09T09:18:48.272364Z",
     "start_time": "2019-12-09T09:18:48.264410Z"
    },
    "scrolled": false
   },
   "outputs": [],
   "source": [
    "import numpy.random as rnd\n",
    "def sample_transition(mdp,state,action):\n",
    "    costs = mdp[3]\n",
    "    \n",
    "    c = costs[state][action] #cost associated with performing a in s\n",
    "    s = rnd.choice(len(mdp[0]), p=mdp[2][action][state]) #state generated from upon a\n",
    "    \n",
    "    return (state,action,c,s)"
   ]
  },
  {
   "cell_type": "code",
   "execution_count": 3,
   "metadata": {},
   "outputs": [
    {
     "output_type": "stream",
     "name": "stdout",
     "text": [
      "Observed transition:\n(9RB, u, 1.0, 9RB)\nObserved transition:\n(29RB, u, 1.0, 29RB)\nObserved transition:\n(8R, l, 1.0, 8R)\n"
     ]
    }
   ],
   "source": [
    "#Sanity Check\n",
    "import numpy.random as rnd\n",
    "\n",
    "rnd.seed(42)\n",
    "\n",
    "# Select random state and action\n",
    "s = rnd.randint(len(M[0]))\n",
    "a = rnd.randint(len(M[1]))\n",
    "\n",
    "s, a, cnew, snew = sample_transition(M, s, a)\n",
    "\n",
    "print('Observed transition:\\n(', end='')\n",
    "print(M[0][s], end=', ')\n",
    "print(M[1][a], end=', ')\n",
    "print(cnew, end=', ')\n",
    "print(M[0][snew], end=')\\n')\n",
    "\n",
    "# Select random state and action\n",
    "s = rnd.randint(len(M[0]))\n",
    "a = rnd.randint(len(M[1]))\n",
    "\n",
    "s, a, cnew, snew = sample_transition(M, s, a)\n",
    "\n",
    "print('Observed transition:\\n(', end='')\n",
    "print(M[0][s], end=', ')\n",
    "print(M[1][a], end=', ')\n",
    "print(cnew, end=', ')\n",
    "print(M[0][snew], end=')\\n')\n",
    "\n",
    "# Select random state and action\n",
    "s = rnd.randint(len(M[0]))\n",
    "a = rnd.randint(len(M[1]))\n",
    "\n",
    "s, a, cnew, snew = sample_transition(M, s, a)\n",
    "\n",
    "print('Observed transition:\\n(', end='')\n",
    "print(M[0][s], end=', ')\n",
    "print(M[1][a], end=', ')\n",
    "print(cnew, end=', ')\n",
    "print(M[0][snew], end=')\\n')"
   ]
  },
  {
   "cell_type": "markdown",
   "metadata": {},
   "source": [
    "All reinforcement learning algorithms that you will implement can only access the MDP through the function `sample_transition` which, in a sense, simulates an \"interaction\" of the agent with the environment.\n",
    "\n",
    "For example, using the \"Doom\" MDP, you could run:\n",
    "\n",
    "and get, as output:\n",
    "\n",
    "```\n",
    "Observed transition:\n",
    "(9RB, u, 1.0, 9RB)\n",
    "Observed transition:\n",
    "(29RB, u, 1.0, 29RB)\n",
    "Observed transition:\n",
    "(8R, l, 1.0, 8R)\n",
    "```"
   ]
  },
  {
   "cell_type": "markdown",
   "metadata": {
    "raw_mimetype": "text/latex"
   },
   "source": [
    "---\n",
    "\n",
    "#### Activity 2.        \n",
    "\n",
    "Write down a function named `egreedy` that implements an $\\epsilon$-greedy policy. Your function should receive, as input, a `numpy` array `Q` with shape `(N,)`, for some integer $N$, and, as an optional argument, a floating point number `eps` with a default value `eps=0.1`. Your function should return... \n",
    "\n",
    "* ... with a probability $\\epsilon$, a random index between $0$ and $N-1$.\n",
    "* ... with a probability $1-\\epsilon$, the index between $0$ and $N-1$ corresponding to the minimum value of `Q`. If more than one such index exists, the function should select among such indices **uniformly at random**."
   ]
  },
  {
   "cell_type": "code",
   "execution_count": 4,
   "metadata": {
    "ExecuteTime": {
     "end_time": "2019-12-09T09:18:48.301639Z",
     "start_time": "2019-12-09T09:18:48.296224Z"
    }
   },
   "outputs": [],
   "source": [
    "def egreedy(Q, eps=0.1):\n",
    "    N = Q.shape[0]\n",
    "    r = rnd.random()\n",
    "\n",
    "    if r < eps:\n",
    "        return rnd.randint(N)\n",
    "\n",
    "    else:\n",
    "        prob = np.zeros((N,))\n",
    "        min_indexes = np.where(Q == Q.min())\n",
    "        for i in min_indexes:\n",
    "            prob[i] = 1/len(min_indexes[0])\n",
    "        return rnd.choice(N, p = prob)"
   ]
  },
  {
   "cell_type": "code",
   "execution_count": 5,
   "metadata": {},
   "outputs": [
    {
     "output_type": "stream",
     "name": "stdout",
     "text": [
      "State: 9RB - action: l\nState: 9RB - action: l\nState: 9RB - action: l\nState: 29RB - action: r\nState: 29RB - action: r\nState: 29RB - action: d\nState: 8R - action: u\nState: 8R - action: u\nState: 8R - action: u\n"
     ]
    }
   ],
   "source": [
    "#Sanity Check\n",
    "rnd.seed(42)\n",
    "\n",
    "s = 51\n",
    "a = egreedy(Qopt[s, :], eps=0)\n",
    "print('State:', M[0][s], '- action:', M[1][a])\n",
    "a = egreedy(Qopt[s, :], eps=0.5)\n",
    "print('State:', M[0][s], '- action:', M[1][a])\n",
    "a = egreedy(Qopt[s, :], eps=1.0)\n",
    "print('State:', M[0][s], '- action:', M[1][a])\n",
    "\n",
    "s = 71\n",
    "a = egreedy(Qopt[s, :], eps=0)\n",
    "print('State:', M[0][s], '- action:', M[1][a])\n",
    "a = egreedy(Qopt[s, :], eps=0.5)\n",
    "print('State:', M[0][s], '- action:', M[1][a])\n",
    "a = egreedy(Qopt[s, :], eps=1.0)\n",
    "print('State:', M[0][s], '- action:', M[1][a])\n",
    "\n",
    "s = 23\n",
    "a = egreedy(Qopt[s, :], eps=0)\n",
    "print('State:', M[0][s], '- action:', M[1][a])\n",
    "a = egreedy(Qopt[s, :], eps=0.5)\n",
    "print('State:', M[0][s], '- action:', M[1][a])\n",
    "a = egreedy(Qopt[s, :], eps=1.0)\n",
    "print('State:', M[0][s], '- action:', M[1][a])"
   ]
  },
  {
   "cell_type": "markdown",
   "metadata": {},
   "source": [
    "For example, using the function `Qopt` loaded from the \"Doom\" file, you can run:\n",
    "\n",
    "```python\n",
    "rnd.seed(42)\n",
    "\n",
    "s = 51\n",
    "a = egreedy(Qopt[s, :], eps=0)\n",
    "print('State:', M[0][s], '- action:', M[1][a])\n",
    "a = egreedy(Qopt[s, :], eps=0.5)\n",
    "print('State:', M[0][s], '- action:', M[1][a])\n",
    "a = egreedy(Qopt[s, :], eps=1.0)\n",
    "print('State:', M[0][s], '- action:', M[1][a])\n",
    "\n",
    "s = 71\n",
    "a = egreedy(Qopt[s, :], eps=0)\n",
    "print('State:', M[0][s], '- action:', M[1][a])\n",
    "a = egreedy(Qopt[s, :], eps=0.5)\n",
    "print('State:', M[0][s], '- action:', M[1][a])\n",
    "a = egreedy(Qopt[s, :], eps=1.0)\n",
    "print('State:', M[0][s], '- action:', M[1][a])\n",
    "\n",
    "s = 23\n",
    "a = egreedy(Qopt[s, :], eps=0)\n",
    "print('State:', M[0][s], '- action:', M[1][a])\n",
    "a = egreedy(Qopt[s, :], eps=0.5)\n",
    "print('State:', M[0][s], '- action:', M[1][a])\n",
    "a = egreedy(Qopt[s, :], eps=1.0)\n",
    "print('State:', M[0][s], '- action:', M[1][a])\n",
    "```\n",
    "\n",
    "you will get the output\n",
    "\n",
    "```\n",
    "State: 9RB - action: l\n",
    "State: 9RB - action: l\n",
    "State: 9RB - action: l\n",
    "State: 29RB - action: r\n",
    "State: 29RB - action: r\n",
    "State: 29RB - action: d\n",
    "State: 8R - action: u\n",
    "State: 8R - action: u\n",
    "State: 8R - action: u\n",
    "```"
   ]
  },
  {
   "cell_type": "markdown",
   "metadata": {},
   "source": [
    "---\n",
    "\n",
    "#### Activity 3. \n",
    "\n",
    "Write a function `mb_learning` that implements the model-based reinforcement learning algorithm discussed in class. Your function should receive as input arguments \n",
    "\n",
    "* A tuple, `mdp`, containing the description of an **arbitrary** MDP. The structure of the tuple is similar to that provided in the example above. \n",
    "* An integer, `n`, corresponding he number of steps that your algorithm should run.\n",
    "*  A numpy array `qinit` with as many rows as the number of states in `mdp` and as many columns as the number of actions in `mdp`. The matrix `qinit` should be used to initialize the $Q$-function being learned by your function.\n",
    "* A tuple, `Pinit`, with as many elements as the number of actions in `mdp`. Each element of `Pinit` corresponds to square numpy arrays with as many rows/columns as the number of states in `mdp` and can be **any** transition probability matrix. The matrices in `Pinit` should be used to initialize the transition probability matrices of the model being learned by your function.\n",
    "* A numpy array `cinit` with as many rows as the number of states in `mdp` and as many columns as the number of actions in `mdp`. The matrix `cinit` should be used to initialize the cost function of the model being learned by your function.\n",
    "\n",
    "Your function should simulate an interaction of `n` steps between the agent and the environment, during which it should perform `n` iterations of the model-based RL algorithm seen in class. In particular, it should learn the transition probabilities and cost function from the interaction between the agent and the environment, and use these to compute the optimal $Q$-function. The transition probabilities, cost and $Q$-functions to be learned should be initialized using `Pinit`, `cinit` and `qinit`, respectively. \n",
    "\n",
    "Note that, at each step of the interaction,\n",
    "\n",
    "* The agent should observe the current state, and select an action using an $\\epsilon$-greedy policy with respect to its current estimate of the optimal $Q$-values. You should use the function `egreedy` from Activity 2, with $\\epsilon=0.15$. \n",
    "* Given the state and action, you must then compute the cost and generate the next state, using `mdp` and the function `sample_transition` from Activity 1.\n",
    "* With this transition information (state, action, cost, next-state), you can now perform an update to the transition probabilities, cost function, and $Q$-function.\n",
    "* When updating the components $(x,a)$ of the model, use the step-size\n",
    "\n",
    "$$\\alpha_t=\\frac{1}{N_t(x,a)+1},$$\n",
    "\n",
    "where $N_t(x,a)$ is the number of visits to the pair $(x,a)$ up to time step $t$.\n",
    "\n",
    "Your function should return a tuple containing:\n",
    "\n",
    "*  A numpy array with as many rows as the number of states in `mdp` and as many columns as the number of actions in `mdp`, corresponding to the learned $Q$-function.\n",
    "* A tuple with as many elements as the number of actions in `mdp`. The element $a$ of the tuple corresponds to a square numpy array with as many rows/columns as the number of states in `mdp`, corresponding to the learned transition probabilities for action $a$.\n",
    "* A numpy array with as many rows as the number of states in `mdp` and as many columns as the number of actions in `mdp`, corresponding to the learned cost function.\n",
    "\n",
    "---"
   ]
  },
  {
   "cell_type": "code",
   "execution_count": 24,
   "metadata": {
    "ExecuteTime": {
     "end_time": "2019-12-09T09:18:48.330597Z",
     "start_time": "2019-12-09T09:18:48.322311Z"
    }
   },
   "outputs": [],
   "source": [
    "# Add your code here.\n",
    "def mb_learning(mdp, n, qinit, Pinit, cinit):\n",
    "    nStates = len(mdp[0])\n",
    "    nActions = len(mdp[1])\n",
    "    gamma = mdp[4]\n",
    "\n",
    "    Q = qinit\n",
    "    P = Pinit\n",
    "    C = cinit\n",
    "    Nt = np.zeros_like(Q)\n",
    "\n",
    "    s = rnd.choice(nStates)\n",
    "\n",
    "    for i in range(n):\n",
    "        a = egreedy(Q[s], 0.15)\n",
    "        trans = sample_transition(mdp, s, a)\n",
    "        c = trans[2]\n",
    "        sNew = trans[3]\n",
    "        Nt[s][a] += 1\n",
    "\n",
    "        alpha = 1/(Nt[s][a] + 1)\n",
    "        C[s][a] = C[s][a] + alpha * (c - C[s][a])\n",
    "        \n",
    "        for y in range(nStates):\n",
    "            if(y == sNew):\n",
    "                P[a][s][y] = P[a][s][y] + alpha * (1 - P[a][s][y])\n",
    "            else:\n",
    "                P[a][s][y] = P[a][s][y] + alpha * (0 - P[a][s][y])\n",
    "        \n",
    "        aux = 0\n",
    "        for y in range(nStates):\n",
    "            aux += P[a][s][y] * np.min(Q[y])\n",
    "\n",
    "        Q[s][a] = C[s][a] + gamma * aux\n",
    "        s = sNew\n",
    "\n",
    "    return (Q, P, C)"
   ]
  },
  {
   "cell_type": "code",
   "execution_count": 25,
   "metadata": {},
   "outputs": [
    {
     "output_type": "stream",
     "name": "stdout",
     "text": [
      "Error in Q after 1000 steps: 140.3680056014355\n",
      "Error in Q after 2000 steps: 136.69880537141657\n"
     ]
    }
   ],
   "source": [
    "#Sanity Check\n",
    "rnd.seed(42)\n",
    "\n",
    "# Initialize transition probabilities\n",
    "pinit = ()\n",
    "\n",
    "for a in range(len(M[1])):\n",
    "    pinit += (np.eye(len(M[0])),)\n",
    "\n",
    "# Initialize cost function\n",
    "cinit = np.zeros((len(M[0]), len(M[1])))\n",
    "\n",
    "# Initialize Q-function\n",
    "qinit = np.zeros((len(M[0]), len(M[1])))\n",
    "\n",
    "# Run 1000 steps of model-based learning\n",
    "qnew, pnew, cnew = mb_learning(M, 1000, qinit, pinit, cinit)\n",
    "\n",
    "# Compare the learned Q with the optimal Q\n",
    "print('Error in Q after 1000 steps:', np.linalg.norm(qnew - Qopt))\n",
    "\n",
    "# Run 1000 additional steps of model-based learning\n",
    "qnew, pnew, cnew = mb_learning(M, 1000, qnew, pnew, cnew)\n",
    "\n",
    "# Compare once again the learned Q with the optimal Q\n",
    "print('Error in Q after 2000 steps:', np.linalg.norm(qnew - Qopt))"
   ]
  },
  {
   "cell_type": "markdown",
   "metadata": {
    "ExecuteTime": {
     "end_time": "2019-12-09T09:18:48.567188Z",
     "start_time": "2019-12-09T09:18:48.333226Z"
    },
    "scrolled": false
   },
   "source": [
    "As an example using the \"Doom\" MDP, we could run:\n",
    "\n",
    "```python\n",
    "rnd.seed(42)\n",
    "\n",
    "# Initialize transition probabilities\n",
    "pinit = ()\n",
    "\n",
    "for a in range(len(M[1])):\n",
    "    pinit += (np.eye(len(M[0])),)\n",
    "\n",
    "# Initialize cost function\n",
    "cinit = np.zeros((len(M[0]), len(M[1])))\n",
    "\n",
    "# Initialize Q-function\n",
    "qinit = np.zeros((len(M[0]), len(M[1])))\n",
    "\n",
    "# Run 1000 steps of model-based learning\n",
    "qnew, pnew, cnew = mb_learning(M, 1000, qinit, pinit, cinit)\n",
    "\n",
    "# Compare the learned Q with the optimal Q\n",
    "print('Error in Q after 1000 steps:', np.linalg.norm(qnew - Qopt))\n",
    "\n",
    "# Run 1000 additional steps of model-based learning\n",
    "qnew, pnew, cnew = mb_learning(M, 1000, qnew, pnew, cnew)\n",
    "\n",
    "# Compare once again the learned Q with the optimal Q\n",
    "print('Error in Q after 2000 steps:', np.linalg.norm(qnew - Qopt))\n",
    "```\n",
    "\n",
    "to get\n",
    "\n",
    "```\n",
    "Error in Q after 1000 steps: 140.3680056014355\n",
    "Error in Q after 2000 steps: 136.6988053714166\n",
    "```\n",
    "\n",
    "Note that, even if the seed is fixed, the numerical values may differ somewhat from those above."
   ]
  },
  {
   "cell_type": "code",
   "execution_count": null,
   "metadata": {},
   "outputs": [],
   "source": []
  },
  {
   "cell_type": "markdown",
   "metadata": {},
   "source": [
    "### 3. Model-free learning\n",
    "\n",
    "You will now implement both $Q$-learning and SARSA."
   ]
  },
  {
   "cell_type": "markdown",
   "metadata": {},
   "source": [
    "---\n",
    "\n",
    "#### Activity 4. \n",
    "\n",
    "Write a function `qlearning` that implements the $Q$-learning algorithm discussed in class. Your function should receive as input arguments \n",
    "\n",
    "* A tuple, `mdp`, containing the description of an **arbitrary** MDP. The structure of the tuple is similar to that provided in the examples above. \n",
    "* An integer, `n`, corresponding he number of steps that your algorithm should run.\n",
    "*  A `numpy` array `qinit` with as many rows as the number of states in `mdp` and as many columns as the number of actions in `mdp`. The matrix `qinit` should be used to initialize the $Q$-function being learned by your function.\n",
    "\n",
    "Your function should simulate an interaction of `n` steps between the agent and the environment, during which it should perform `n` iterations of the $Q$-learning algorithm seen in class. In particular, it should learn optimal $Q$-function. The $Q$-function to be learned should be initialized using `qinit`. \n",
    "\n",
    "Note that, at each step of the interaction,\n",
    "\n",
    "* The agent should observe the current state, and select an action using an $\\epsilon$-greedy policy with respect to its current estimate of the optimal $Q$-values. You should use the function `egreedy` from Activity 2, with $\\epsilon=0.15$. \n",
    "* Given the state and action, you must then compute the cost and generate the next state, using `mdp` and the function `sample_transition` from Activity 1.\n",
    "* With this transition information (state, action, cost, next-state), you can now perform an update to the $Q$-function.\n",
    "* When updating the components $(x,a)$ of the model, use the step-size $\\alpha=0.3$.\n",
    "\n",
    "Your function should return a `numpy` array with as many rows as the number of states in `mdp` and as many columns as the number of actions in `mdp`, corresponding to the learned $Q$-function.\n",
    "\n",
    "---"
   ]
  },
  {
   "cell_type": "code",
   "execution_count": 10,
   "metadata": {
    "ExecuteTime": {
     "end_time": "2019-12-09T09:18:48.576851Z",
     "start_time": "2019-12-09T09:18:48.571201Z"
    }
   },
   "outputs": [],
   "source": [
    "# Add your code here.\n",
    "def qlearning(mdp, n, qinit):\n",
    "    nStates = len(mdp[0])\n",
    "    gamma = mdp[4]\n",
    "\n",
    "    Q = qinit\n",
    "    alpha = 0.3\n",
    "\n",
    "    s = rnd.choice(nStates)\n",
    "\n",
    "    for i in range(n):\n",
    "        a = egreedy(Q[s], 0.15)\n",
    "        trans = sample_transition(mdp, s, a)\n",
    "        c = trans[2]\n",
    "        sNew = trans[3]\n",
    "\n",
    "        Q[s][a] = Q[s][a] + alpha * (c + gamma * np.min(Q[sNew]) - Q[s][a])\n",
    "        s = sNew\n",
    "\n",
    "    return Q"
   ]
  },
  {
   "cell_type": "code",
   "execution_count": 17,
   "metadata": {},
   "outputs": [
    {
     "output_type": "stream",
     "name": "stdout",
     "text": [
      "Error in Q after 1000 steps: 140.64048831542058\nError in Q after 2000 steps: 136.03209355140413\n"
     ]
    }
   ],
   "source": [
    "rnd.seed(42)\n",
    "\n",
    "# Initialize Q-function\n",
    "qinit = np.zeros((len(M[0]), len(M[1])))\n",
    "\n",
    "# Run 1000 steps of model-based learning\n",
    "qnew = qlearning(M, 1000, qinit)\n",
    "\n",
    "# Compare the learned Q with the optimal Q\n",
    "print('Error in Q after 1000 steps:', np.linalg.norm(qnew - Qopt))\n",
    "\n",
    "# Run 1000 additional steps of model-based learning\n",
    "qnew = qlearning(M, 1000, qnew)\n",
    "\n",
    "# Compare once again the learned Q with the optimal Q\n",
    "print('Error in Q after 2000 steps:', np.linalg.norm(qnew - Qopt))"
   ]
  },
  {
   "cell_type": "markdown",
   "metadata": {
    "ExecuteTime": {
     "end_time": "2019-12-09T09:18:48.567188Z",
     "start_time": "2019-12-09T09:18:48.333226Z"
    },
    "scrolled": false
   },
   "source": [
    "As an example using the \"Doom\" MDP, we could run:\n",
    "\n",
    "```python\n",
    "rnd.seed(42)\n",
    "\n",
    "# Initialize Q-function\n",
    "qinit = np.zeros((len(M[0]), len(M[1])))\n",
    "\n",
    "# Run 1000 steps of model-based learning\n",
    "qnew = qlearning(M, 1000, qinit)\n",
    "\n",
    "# Compare the learned Q with the optimal Q\n",
    "print('Error in Q after 1000 steps:', np.linalg.norm(qnew - Qopt))\n",
    "\n",
    "# Run 1000 additional steps of model-based learning\n",
    "qnew = qlearning(M, 1000, qnew)\n",
    "\n",
    "# Compare once again the learned Q with the optimal Q\n",
    "print('Error in Q after 2000 steps:', np.linalg.norm(qnew - Qopt))\n",
    "```\n",
    "\n",
    "to get\n",
    "\n",
    "```\n",
    "Error in Q after 1000 steps: 140.64048831542058\n",
    "Error in Q after 2000 steps: 136.03209355140416\n",
    "```\n",
    "\n",
    "Once again, even if the seed is fixed, the numerical values may differ somewhat from those above."
   ]
  },
  {
   "cell_type": "markdown",
   "metadata": {},
   "source": [
    "---\n",
    "\n",
    "#### Activity 5. \n",
    "\n",
    "Write a function `sarsa` that implements the SARSA algorithm discussed in class. Your function should receive as input arguments \n",
    "\n",
    "* A tuple, `mdp`, containing the description of an **arbitrary** MDP. The structure of the tuple is similar to that provided in the examples above. \n",
    "* An integer, `n`, corresponding he number of steps that your algorithm should run.\n",
    "*  A `numpy` array `qinit` with as many rows as the number of states in `mdp` and as many columns as the number of actions in `mdp`. The matrix `qinit` should be used to initialize the $Q$-function being learned by your function.\n",
    "\n",
    "Your function should simulate an interaction of `n` steps between the agent and the environment, during which it should perform `n` iterations of the SARSA algorithm seen in class. The $Q$-function to be learned should be initialized using `qinit`. \n",
    "\n",
    "Note that, at each step of the interaction,\n",
    "\n",
    "* The agent should observe the current state, and select an action using an $\\epsilon$-greedy policy with respect to its current estimate of the optimal $Q$-values. You should use the function `egreedy` from Activity 2, with $\\epsilon=0.15$. **Do not adjust the value of $\\epsilon$ during learning.**\n",
    "* Given the state and action, you must then compute the cost and generate the next state, using `mdp` and the function `sample_transition` from Activity 1.\n",
    "* With this transition information (state, action, cost, next-state), you can now perform an update to the $Q$-function.\n",
    "* When updating the components $(x,a)$ of the model, use the step-size $\\alpha=0.3$.\n",
    "\n",
    "Your function should return a `numpy` array with as many rows as the number of states in `mdp` and as many columns as the number of actions in `mdp`, corresponding to the learned $Q$-function.\n",
    "\n",
    "---"
   ]
  },
  {
   "cell_type": "code",
   "execution_count": 18,
   "metadata": {
    "ExecuteTime": {
     "end_time": "2019-12-09T09:18:48.771464Z",
     "start_time": "2019-12-09T09:18:48.766170Z"
    }
   },
   "outputs": [],
   "source": [
    "# Add your code here.\n",
    "def sarsa(mdp, n, qinit):\n",
    "    nStates = len(mdp[0])\n",
    "    gamma = mdp[4]\n",
    "\n",
    "    Q = qinit\n",
    "    alpha = 0.3\n",
    "\n",
    "    s = rnd.choice(nStates)\n",
    "    a = egreedy(Q[s], 0.15)\n",
    "\n",
    "    for i in range(n):\n",
    "        trans = sample_transition(mdp, s, a)\n",
    "        c = trans[2]\n",
    "        sNew = trans[3]\n",
    "\n",
    "        aNew = egreedy(Q[sNew], 0.15)\n",
    "\n",
    "        Q[s][a] = Q[s][a] + alpha * (c + gamma * Q[sNew][aNew] - Q[s][a])\n",
    "        s = sNew\n",
    "        a = aNew\n",
    "\n",
    "    return Q"
   ]
  },
  {
   "cell_type": "code",
   "execution_count": 19,
   "metadata": {},
   "outputs": [
    {
     "output_type": "stream",
     "name": "stdout",
     "text": [
      "Error in Q after 1000 steps: 136.89677001743058\nError in Q after 2000 steps: 133.63203126530152\n"
     ]
    }
   ],
   "source": [
    "rnd.seed(42)\n",
    "\n",
    "# Initialize Q-function\n",
    "qinit = np.zeros((len(M[0]), len(M[1])))\n",
    "\n",
    "# Run 1000 steps of model-based learning\n",
    "qnew = sarsa(M, 1000, qinit)\n",
    "\n",
    "# Compare the learned Q with the optimal Q\n",
    "print('Error in Q after 1000 steps:', np.linalg.norm(qnew - Qopt))\n",
    "\n",
    "# Run 1000 additional steps of model-based learning\n",
    "qnew = sarsa(M, 1000, qnew)\n",
    "\n",
    "# Compare once again the learned Q with the optimal Q\n",
    "print('Error in Q after 2000 steps:', np.linalg.norm(qnew - Qopt))"
   ]
  },
  {
   "cell_type": "markdown",
   "metadata": {
    "ExecuteTime": {
     "end_time": "2019-12-09T09:18:48.567188Z",
     "start_time": "2019-12-09T09:18:48.333226Z"
    },
    "scrolled": false
   },
   "source": [
    "As an example using the \"Doom\" MDP, we could run:\n",
    "\n",
    "```python\n",
    "rnd.seed(42)\n",
    "\n",
    "# Initialize Q-function\n",
    "qinit = np.zeros((len(M[0]), len(M[1])))\n",
    "\n",
    "# Run 1000 steps of model-based learning\n",
    "qnew = sarsa(M, 1000, qinit)\n",
    "\n",
    "# Compare the learned Q with the optimal Q\n",
    "print('Error in Q after 1000 steps:', np.linalg.norm(qnew - Qopt))\n",
    "\n",
    "# Run 1000 additional steps of model-based learning\n",
    "qnew = sarsa(M, 1000, qnew)\n",
    "\n",
    "# Compare once again the learned Q with the optimal Q\n",
    "print('Error in Q after 2000 steps:', np.linalg.norm(qnew - Qopt))\n",
    "```\n",
    "\n",
    "to get\n",
    "\n",
    "```\n",
    "Error in Q after 1000 steps: 136.89677001743058\n",
    "Error in Q after 2000 steps: 133.63203126530152\n",
    "```"
   ]
  },
  {
   "cell_type": "code",
   "execution_count": 21,
   "metadata": {},
   "outputs": [
    {
     "output_type": "execute_result",
     "data": {
      "text/plain": [
       "Text(0, 0.5, 'Error in $Q$-function')"
      ]
     },
     "metadata": {},
     "execution_count": 21
    },
    {
     "output_type": "display_data",
     "data": {
      "text/plain": "<Figure size 432x288 with 1 Axes>",
      "image/svg+xml": "<?xml version=\"1.0\" encoding=\"utf-8\" standalone=\"no\"?>\n<!DOCTYPE svg PUBLIC \"-//W3C//DTD SVG 1.1//EN\"\n  \"http://www.w3.org/Graphics/SVG/1.1/DTD/svg11.dtd\">\n<!-- Created with matplotlib (https://matplotlib.org/) -->\n<svg height=\"262.19625pt\" version=\"1.1\" viewBox=\"0 0 389.653693 262.19625\" width=\"389.653693pt\" xmlns=\"http://www.w3.org/2000/svg\" xmlns:xlink=\"http://www.w3.org/1999/xlink\">\n <metadata>\n  <rdf:RDF xmlns:cc=\"http://creativecommons.org/ns#\" xmlns:dc=\"http://purl.org/dc/elements/1.1/\" xmlns:rdf=\"http://www.w3.org/1999/02/22-rdf-syntax-ns#\">\n   <cc:Work>\n    <dc:type rdf:resource=\"http://purl.org/dc/dcmitype/StillImage\"/>\n    <dc:date>2020-12-07T17:07:08.899987</dc:date>\n    <dc:format>image/svg+xml</dc:format>\n    <dc:creator>\n     <cc:Agent>\n      <dc:title>Matplotlib v3.3.2, https://matplotlib.org/</dc:title>\n     </cc:Agent>\n    </dc:creator>\n   </cc:Work>\n  </rdf:RDF>\n </metadata>\n <defs>\n  <style type=\"text/css\">*{stroke-linecap:butt;stroke-linejoin:round;}</style>\n </defs>\n <g id=\"figure_1\">\n  <g id=\"patch_1\">\n   <path d=\"M 0 262.19625 \nL 389.653693 262.19625 \nL 389.653693 0 \nL 0 0 \nz\n\" style=\"fill:none;\"/>\n  </g>\n  <g id=\"axes_1\">\n   <g id=\"patch_2\">\n    <path d=\"M 46.965625 224.64 \nL 381.765625 224.64 \nL 381.765625 7.2 \nL 46.965625 7.2 \nz\n\" style=\"fill:#ffffff;\"/>\n   </g>\n   <g id=\"matplotlib.axis_1\">\n    <g id=\"xtick_1\">\n     <g id=\"line2d_1\">\n      <defs>\n       <path d=\"M 0 0 \nL 0 3.5 \n\" id=\"mc3ad5b780b\" style=\"stroke:#000000;stroke-width:0.8;\"/>\n      </defs>\n      <g>\n       <use style=\"stroke:#000000;stroke-width:0.8;\" x=\"62.183807\" xlink:href=\"#mc3ad5b780b\" y=\"224.64\"/>\n      </g>\n     </g>\n     <g id=\"text_1\">\n      <!-- 0 -->\n      <g transform=\"translate(59.002557 239.238437)scale(0.1 -0.1)\">\n       <defs>\n        <path d=\"M 31.78125 66.40625 \nQ 24.171875 66.40625 20.328125 58.90625 \nQ 16.5 51.421875 16.5 36.375 \nQ 16.5 21.390625 20.328125 13.890625 \nQ 24.171875 6.390625 31.78125 6.390625 \nQ 39.453125 6.390625 43.28125 13.890625 \nQ 47.125 21.390625 47.125 36.375 \nQ 47.125 51.421875 43.28125 58.90625 \nQ 39.453125 66.40625 31.78125 66.40625 \nz\nM 31.78125 74.21875 \nQ 44.046875 74.21875 50.515625 64.515625 \nQ 56.984375 54.828125 56.984375 36.375 \nQ 56.984375 17.96875 50.515625 8.265625 \nQ 44.046875 -1.421875 31.78125 -1.421875 \nQ 19.53125 -1.421875 13.0625 8.265625 \nQ 6.59375 17.96875 6.59375 36.375 \nQ 6.59375 54.828125 13.0625 64.515625 \nQ 19.53125 74.21875 31.78125 74.21875 \nz\n\" id=\"DejaVuSans-48\"/>\n       </defs>\n       <use xlink:href=\"#DejaVuSans-48\"/>\n      </g>\n     </g>\n    </g>\n    <g id=\"xtick_2\">\n     <g id=\"line2d_2\">\n      <g>\n       <use style=\"stroke:#000000;stroke-width:0.8;\" x=\"123.056534\" xlink:href=\"#mc3ad5b780b\" y=\"224.64\"/>\n      </g>\n     </g>\n     <g id=\"text_2\">\n      <!-- 2000 -->\n      <g transform=\"translate(110.331534 239.238437)scale(0.1 -0.1)\">\n       <defs>\n        <path d=\"M 19.1875 8.296875 \nL 53.609375 8.296875 \nL 53.609375 0 \nL 7.328125 0 \nL 7.328125 8.296875 \nQ 12.9375 14.109375 22.625 23.890625 \nQ 32.328125 33.6875 34.8125 36.53125 \nQ 39.546875 41.84375 41.421875 45.53125 \nQ 43.3125 49.21875 43.3125 52.78125 \nQ 43.3125 58.59375 39.234375 62.25 \nQ 35.15625 65.921875 28.609375 65.921875 \nQ 23.96875 65.921875 18.8125 64.3125 \nQ 13.671875 62.703125 7.8125 59.421875 \nL 7.8125 69.390625 \nQ 13.765625 71.78125 18.9375 73 \nQ 24.125 74.21875 28.421875 74.21875 \nQ 39.75 74.21875 46.484375 68.546875 \nQ 53.21875 62.890625 53.21875 53.421875 \nQ 53.21875 48.921875 51.53125 44.890625 \nQ 49.859375 40.875 45.40625 35.40625 \nQ 44.1875 33.984375 37.640625 27.21875 \nQ 31.109375 20.453125 19.1875 8.296875 \nz\n\" id=\"DejaVuSans-50\"/>\n       </defs>\n       <use xlink:href=\"#DejaVuSans-50\"/>\n       <use x=\"63.623047\" xlink:href=\"#DejaVuSans-48\"/>\n       <use x=\"127.246094\" xlink:href=\"#DejaVuSans-48\"/>\n       <use x=\"190.869141\" xlink:href=\"#DejaVuSans-48\"/>\n      </g>\n     </g>\n    </g>\n    <g id=\"xtick_3\">\n     <g id=\"line2d_3\">\n      <g>\n       <use style=\"stroke:#000000;stroke-width:0.8;\" x=\"183.929261\" xlink:href=\"#mc3ad5b780b\" y=\"224.64\"/>\n      </g>\n     </g>\n     <g id=\"text_3\">\n      <!-- 4000 -->\n      <g transform=\"translate(171.204261 239.238437)scale(0.1 -0.1)\">\n       <defs>\n        <path d=\"M 37.796875 64.3125 \nL 12.890625 25.390625 \nL 37.796875 25.390625 \nz\nM 35.203125 72.90625 \nL 47.609375 72.90625 \nL 47.609375 25.390625 \nL 58.015625 25.390625 \nL 58.015625 17.1875 \nL 47.609375 17.1875 \nL 47.609375 0 \nL 37.796875 0 \nL 37.796875 17.1875 \nL 4.890625 17.1875 \nL 4.890625 26.703125 \nz\n\" id=\"DejaVuSans-52\"/>\n       </defs>\n       <use xlink:href=\"#DejaVuSans-52\"/>\n       <use x=\"63.623047\" xlink:href=\"#DejaVuSans-48\"/>\n       <use x=\"127.246094\" xlink:href=\"#DejaVuSans-48\"/>\n       <use x=\"190.869141\" xlink:href=\"#DejaVuSans-48\"/>\n      </g>\n     </g>\n    </g>\n    <g id=\"xtick_4\">\n     <g id=\"line2d_4\">\n      <g>\n       <use style=\"stroke:#000000;stroke-width:0.8;\" x=\"244.801989\" xlink:href=\"#mc3ad5b780b\" y=\"224.64\"/>\n      </g>\n     </g>\n     <g id=\"text_4\">\n      <!-- 6000 -->\n      <g transform=\"translate(232.076989 239.238437)scale(0.1 -0.1)\">\n       <defs>\n        <path d=\"M 33.015625 40.375 \nQ 26.375 40.375 22.484375 35.828125 \nQ 18.609375 31.296875 18.609375 23.390625 \nQ 18.609375 15.53125 22.484375 10.953125 \nQ 26.375 6.390625 33.015625 6.390625 \nQ 39.65625 6.390625 43.53125 10.953125 \nQ 47.40625 15.53125 47.40625 23.390625 \nQ 47.40625 31.296875 43.53125 35.828125 \nQ 39.65625 40.375 33.015625 40.375 \nz\nM 52.59375 71.296875 \nL 52.59375 62.3125 \nQ 48.875 64.0625 45.09375 64.984375 \nQ 41.3125 65.921875 37.59375 65.921875 \nQ 27.828125 65.921875 22.671875 59.328125 \nQ 17.53125 52.734375 16.796875 39.40625 \nQ 19.671875 43.65625 24.015625 45.921875 \nQ 28.375 48.1875 33.59375 48.1875 \nQ 44.578125 48.1875 50.953125 41.515625 \nQ 57.328125 34.859375 57.328125 23.390625 \nQ 57.328125 12.15625 50.6875 5.359375 \nQ 44.046875 -1.421875 33.015625 -1.421875 \nQ 20.359375 -1.421875 13.671875 8.265625 \nQ 6.984375 17.96875 6.984375 36.375 \nQ 6.984375 53.65625 15.1875 63.9375 \nQ 23.390625 74.21875 37.203125 74.21875 \nQ 40.921875 74.21875 44.703125 73.484375 \nQ 48.484375 72.75 52.59375 71.296875 \nz\n\" id=\"DejaVuSans-54\"/>\n       </defs>\n       <use xlink:href=\"#DejaVuSans-54\"/>\n       <use x=\"63.623047\" xlink:href=\"#DejaVuSans-48\"/>\n       <use x=\"127.246094\" xlink:href=\"#DejaVuSans-48\"/>\n       <use x=\"190.869141\" xlink:href=\"#DejaVuSans-48\"/>\n      </g>\n     </g>\n    </g>\n    <g id=\"xtick_5\">\n     <g id=\"line2d_5\">\n      <g>\n       <use style=\"stroke:#000000;stroke-width:0.8;\" x=\"305.674716\" xlink:href=\"#mc3ad5b780b\" y=\"224.64\"/>\n      </g>\n     </g>\n     <g id=\"text_5\">\n      <!-- 8000 -->\n      <g transform=\"translate(292.949716 239.238437)scale(0.1 -0.1)\">\n       <defs>\n        <path d=\"M 31.78125 34.625 \nQ 24.75 34.625 20.71875 30.859375 \nQ 16.703125 27.09375 16.703125 20.515625 \nQ 16.703125 13.921875 20.71875 10.15625 \nQ 24.75 6.390625 31.78125 6.390625 \nQ 38.8125 6.390625 42.859375 10.171875 \nQ 46.921875 13.96875 46.921875 20.515625 \nQ 46.921875 27.09375 42.890625 30.859375 \nQ 38.875 34.625 31.78125 34.625 \nz\nM 21.921875 38.8125 \nQ 15.578125 40.375 12.03125 44.71875 \nQ 8.5 49.078125 8.5 55.328125 \nQ 8.5 64.0625 14.71875 69.140625 \nQ 20.953125 74.21875 31.78125 74.21875 \nQ 42.671875 74.21875 48.875 69.140625 \nQ 55.078125 64.0625 55.078125 55.328125 \nQ 55.078125 49.078125 51.53125 44.71875 \nQ 48 40.375 41.703125 38.8125 \nQ 48.828125 37.15625 52.796875 32.3125 \nQ 56.78125 27.484375 56.78125 20.515625 \nQ 56.78125 9.90625 50.3125 4.234375 \nQ 43.84375 -1.421875 31.78125 -1.421875 \nQ 19.734375 -1.421875 13.25 4.234375 \nQ 6.78125 9.90625 6.78125 20.515625 \nQ 6.78125 27.484375 10.78125 32.3125 \nQ 14.796875 37.15625 21.921875 38.8125 \nz\nM 18.3125 54.390625 \nQ 18.3125 48.734375 21.84375 45.5625 \nQ 25.390625 42.390625 31.78125 42.390625 \nQ 38.140625 42.390625 41.71875 45.5625 \nQ 45.3125 48.734375 45.3125 54.390625 \nQ 45.3125 60.0625 41.71875 63.234375 \nQ 38.140625 66.40625 31.78125 66.40625 \nQ 25.390625 66.40625 21.84375 63.234375 \nQ 18.3125 60.0625 18.3125 54.390625 \nz\n\" id=\"DejaVuSans-56\"/>\n       </defs>\n       <use xlink:href=\"#DejaVuSans-56\"/>\n       <use x=\"63.623047\" xlink:href=\"#DejaVuSans-48\"/>\n       <use x=\"127.246094\" xlink:href=\"#DejaVuSans-48\"/>\n       <use x=\"190.869141\" xlink:href=\"#DejaVuSans-48\"/>\n      </g>\n     </g>\n    </g>\n    <g id=\"xtick_6\">\n     <g id=\"line2d_6\">\n      <g>\n       <use style=\"stroke:#000000;stroke-width:0.8;\" x=\"366.547443\" xlink:href=\"#mc3ad5b780b\" y=\"224.64\"/>\n      </g>\n     </g>\n     <g id=\"text_6\">\n      <!-- 10000 -->\n      <g transform=\"translate(350.641193 239.238437)scale(0.1 -0.1)\">\n       <defs>\n        <path d=\"M 12.40625 8.296875 \nL 28.515625 8.296875 \nL 28.515625 63.921875 \nL 10.984375 60.40625 \nL 10.984375 69.390625 \nL 28.421875 72.90625 \nL 38.28125 72.90625 \nL 38.28125 8.296875 \nL 54.390625 8.296875 \nL 54.390625 0 \nL 12.40625 0 \nz\n\" id=\"DejaVuSans-49\"/>\n       </defs>\n       <use xlink:href=\"#DejaVuSans-49\"/>\n       <use x=\"63.623047\" xlink:href=\"#DejaVuSans-48\"/>\n       <use x=\"127.246094\" xlink:href=\"#DejaVuSans-48\"/>\n       <use x=\"190.869141\" xlink:href=\"#DejaVuSans-48\"/>\n       <use x=\"254.492188\" xlink:href=\"#DejaVuSans-48\"/>\n      </g>\n     </g>\n    </g>\n    <g id=\"text_7\">\n     <!-- N. iterations -->\n     <g transform=\"translate(183.719531 252.916562)scale(0.1 -0.1)\">\n      <defs>\n       <path d=\"M 9.8125 72.90625 \nL 23.09375 72.90625 \nL 55.421875 11.921875 \nL 55.421875 72.90625 \nL 64.984375 72.90625 \nL 64.984375 0 \nL 51.703125 0 \nL 19.390625 60.984375 \nL 19.390625 0 \nL 9.8125 0 \nz\n\" id=\"DejaVuSans-78\"/>\n       <path d=\"M 10.6875 12.40625 \nL 21 12.40625 \nL 21 0 \nL 10.6875 0 \nz\n\" id=\"DejaVuSans-46\"/>\n       <path id=\"DejaVuSans-32\"/>\n       <path d=\"M 9.421875 54.6875 \nL 18.40625 54.6875 \nL 18.40625 0 \nL 9.421875 0 \nz\nM 9.421875 75.984375 \nL 18.40625 75.984375 \nL 18.40625 64.59375 \nL 9.421875 64.59375 \nz\n\" id=\"DejaVuSans-105\"/>\n       <path d=\"M 18.3125 70.21875 \nL 18.3125 54.6875 \nL 36.8125 54.6875 \nL 36.8125 47.703125 \nL 18.3125 47.703125 \nL 18.3125 18.015625 \nQ 18.3125 11.328125 20.140625 9.421875 \nQ 21.96875 7.515625 27.59375 7.515625 \nL 36.8125 7.515625 \nL 36.8125 0 \nL 27.59375 0 \nQ 17.1875 0 13.234375 3.875 \nQ 9.28125 7.765625 9.28125 18.015625 \nL 9.28125 47.703125 \nL 2.6875 47.703125 \nL 2.6875 54.6875 \nL 9.28125 54.6875 \nL 9.28125 70.21875 \nz\n\" id=\"DejaVuSans-116\"/>\n       <path d=\"M 56.203125 29.59375 \nL 56.203125 25.203125 \nL 14.890625 25.203125 \nQ 15.484375 15.921875 20.484375 11.0625 \nQ 25.484375 6.203125 34.421875 6.203125 \nQ 39.59375 6.203125 44.453125 7.46875 \nQ 49.3125 8.734375 54.109375 11.28125 \nL 54.109375 2.78125 \nQ 49.265625 0.734375 44.1875 -0.34375 \nQ 39.109375 -1.421875 33.890625 -1.421875 \nQ 20.796875 -1.421875 13.15625 6.1875 \nQ 5.515625 13.8125 5.515625 26.8125 \nQ 5.515625 40.234375 12.765625 48.109375 \nQ 20.015625 56 32.328125 56 \nQ 43.359375 56 49.78125 48.890625 \nQ 56.203125 41.796875 56.203125 29.59375 \nz\nM 47.21875 32.234375 \nQ 47.125 39.59375 43.09375 43.984375 \nQ 39.0625 48.390625 32.421875 48.390625 \nQ 24.90625 48.390625 20.390625 44.140625 \nQ 15.875 39.890625 15.1875 32.171875 \nz\n\" id=\"DejaVuSans-101\"/>\n       <path d=\"M 41.109375 46.296875 \nQ 39.59375 47.171875 37.8125 47.578125 \nQ 36.03125 48 33.890625 48 \nQ 26.265625 48 22.1875 43.046875 \nQ 18.109375 38.09375 18.109375 28.8125 \nL 18.109375 0 \nL 9.078125 0 \nL 9.078125 54.6875 \nL 18.109375 54.6875 \nL 18.109375 46.1875 \nQ 20.953125 51.171875 25.484375 53.578125 \nQ 30.03125 56 36.53125 56 \nQ 37.453125 56 38.578125 55.875 \nQ 39.703125 55.765625 41.0625 55.515625 \nz\n\" id=\"DejaVuSans-114\"/>\n       <path d=\"M 34.28125 27.484375 \nQ 23.390625 27.484375 19.1875 25 \nQ 14.984375 22.515625 14.984375 16.5 \nQ 14.984375 11.71875 18.140625 8.90625 \nQ 21.296875 6.109375 26.703125 6.109375 \nQ 34.1875 6.109375 38.703125 11.40625 \nQ 43.21875 16.703125 43.21875 25.484375 \nL 43.21875 27.484375 \nz\nM 52.203125 31.203125 \nL 52.203125 0 \nL 43.21875 0 \nL 43.21875 8.296875 \nQ 40.140625 3.328125 35.546875 0.953125 \nQ 30.953125 -1.421875 24.3125 -1.421875 \nQ 15.921875 -1.421875 10.953125 3.296875 \nQ 6 8.015625 6 15.921875 \nQ 6 25.140625 12.171875 29.828125 \nQ 18.359375 34.515625 30.609375 34.515625 \nL 43.21875 34.515625 \nL 43.21875 35.40625 \nQ 43.21875 41.609375 39.140625 45 \nQ 35.0625 48.390625 27.6875 48.390625 \nQ 23 48.390625 18.546875 47.265625 \nQ 14.109375 46.140625 10.015625 43.890625 \nL 10.015625 52.203125 \nQ 14.9375 54.109375 19.578125 55.046875 \nQ 24.21875 56 28.609375 56 \nQ 40.484375 56 46.34375 49.84375 \nQ 52.203125 43.703125 52.203125 31.203125 \nz\n\" id=\"DejaVuSans-97\"/>\n       <path d=\"M 30.609375 48.390625 \nQ 23.390625 48.390625 19.1875 42.75 \nQ 14.984375 37.109375 14.984375 27.296875 \nQ 14.984375 17.484375 19.15625 11.84375 \nQ 23.34375 6.203125 30.609375 6.203125 \nQ 37.796875 6.203125 41.984375 11.859375 \nQ 46.1875 17.53125 46.1875 27.296875 \nQ 46.1875 37.015625 41.984375 42.703125 \nQ 37.796875 48.390625 30.609375 48.390625 \nz\nM 30.609375 56 \nQ 42.328125 56 49.015625 48.375 \nQ 55.71875 40.765625 55.71875 27.296875 \nQ 55.71875 13.875 49.015625 6.21875 \nQ 42.328125 -1.421875 30.609375 -1.421875 \nQ 18.84375 -1.421875 12.171875 6.21875 \nQ 5.515625 13.875 5.515625 27.296875 \nQ 5.515625 40.765625 12.171875 48.375 \nQ 18.84375 56 30.609375 56 \nz\n\" id=\"DejaVuSans-111\"/>\n       <path d=\"M 54.890625 33.015625 \nL 54.890625 0 \nL 45.90625 0 \nL 45.90625 32.71875 \nQ 45.90625 40.484375 42.875 44.328125 \nQ 39.84375 48.1875 33.796875 48.1875 \nQ 26.515625 48.1875 22.3125 43.546875 \nQ 18.109375 38.921875 18.109375 30.90625 \nL 18.109375 0 \nL 9.078125 0 \nL 9.078125 54.6875 \nL 18.109375 54.6875 \nL 18.109375 46.1875 \nQ 21.34375 51.125 25.703125 53.5625 \nQ 30.078125 56 35.796875 56 \nQ 45.21875 56 50.046875 50.171875 \nQ 54.890625 44.34375 54.890625 33.015625 \nz\n\" id=\"DejaVuSans-110\"/>\n       <path d=\"M 44.28125 53.078125 \nL 44.28125 44.578125 \nQ 40.484375 46.53125 36.375 47.5 \nQ 32.28125 48.484375 27.875 48.484375 \nQ 21.1875 48.484375 17.84375 46.4375 \nQ 14.5 44.390625 14.5 40.28125 \nQ 14.5 37.15625 16.890625 35.375 \nQ 19.28125 33.59375 26.515625 31.984375 \nL 29.59375 31.296875 \nQ 39.15625 29.25 43.1875 25.515625 \nQ 47.21875 21.78125 47.21875 15.09375 \nQ 47.21875 7.46875 41.1875 3.015625 \nQ 35.15625 -1.421875 24.609375 -1.421875 \nQ 20.21875 -1.421875 15.453125 -0.5625 \nQ 10.6875 0.296875 5.421875 2 \nL 5.421875 11.28125 \nQ 10.40625 8.6875 15.234375 7.390625 \nQ 20.0625 6.109375 24.8125 6.109375 \nQ 31.15625 6.109375 34.5625 8.28125 \nQ 37.984375 10.453125 37.984375 14.40625 \nQ 37.984375 18.0625 35.515625 20.015625 \nQ 33.0625 21.96875 24.703125 23.78125 \nL 21.578125 24.515625 \nQ 13.234375 26.265625 9.515625 29.90625 \nQ 5.8125 33.546875 5.8125 39.890625 \nQ 5.8125 47.609375 11.28125 51.796875 \nQ 16.75 56 26.8125 56 \nQ 31.78125 56 36.171875 55.265625 \nQ 40.578125 54.546875 44.28125 53.078125 \nz\n\" id=\"DejaVuSans-115\"/>\n      </defs>\n      <use xlink:href=\"#DejaVuSans-78\"/>\n      <use x=\"74.804688\" xlink:href=\"#DejaVuSans-46\"/>\n      <use x=\"106.591797\" xlink:href=\"#DejaVuSans-32\"/>\n      <use x=\"138.378906\" xlink:href=\"#DejaVuSans-105\"/>\n      <use x=\"166.162109\" xlink:href=\"#DejaVuSans-116\"/>\n      <use x=\"205.371094\" xlink:href=\"#DejaVuSans-101\"/>\n      <use x=\"266.894531\" xlink:href=\"#DejaVuSans-114\"/>\n      <use x=\"308.007812\" xlink:href=\"#DejaVuSans-97\"/>\n      <use x=\"369.287109\" xlink:href=\"#DejaVuSans-116\"/>\n      <use x=\"408.496094\" xlink:href=\"#DejaVuSans-105\"/>\n      <use x=\"436.279297\" xlink:href=\"#DejaVuSans-111\"/>\n      <use x=\"497.460938\" xlink:href=\"#DejaVuSans-110\"/>\n      <use x=\"560.839844\" xlink:href=\"#DejaVuSans-115\"/>\n     </g>\n    </g>\n   </g>\n   <g id=\"matplotlib.axis_2\">\n    <g id=\"ytick_1\">\n     <g id=\"line2d_7\">\n      <defs>\n       <path d=\"M 0 0 \nL -3.5 0 \n\" id=\"m75f083e8e0\" style=\"stroke:#000000;stroke-width:0.8;\"/>\n      </defs>\n      <g>\n       <use style=\"stroke:#000000;stroke-width:0.8;\" x=\"46.965625\" xlink:href=\"#m75f083e8e0\" y=\"199.926917\"/>\n      </g>\n     </g>\n     <g id=\"text_8\">\n      <!-- 20 -->\n      <g transform=\"translate(27.240625 203.726135)scale(0.1 -0.1)\">\n       <use xlink:href=\"#DejaVuSans-50\"/>\n       <use x=\"63.623047\" xlink:href=\"#DejaVuSans-48\"/>\n      </g>\n     </g>\n    </g>\n    <g id=\"ytick_2\">\n     <g id=\"line2d_8\">\n      <g>\n       <use style=\"stroke:#000000;stroke-width:0.8;\" x=\"46.965625\" xlink:href=\"#m75f083e8e0\" y=\"169.710615\"/>\n      </g>\n     </g>\n     <g id=\"text_9\">\n      <!-- 40 -->\n      <g transform=\"translate(27.240625 173.509834)scale(0.1 -0.1)\">\n       <use xlink:href=\"#DejaVuSans-52\"/>\n       <use x=\"63.623047\" xlink:href=\"#DejaVuSans-48\"/>\n      </g>\n     </g>\n    </g>\n    <g id=\"ytick_3\">\n     <g id=\"line2d_9\">\n      <g>\n       <use style=\"stroke:#000000;stroke-width:0.8;\" x=\"46.965625\" xlink:href=\"#m75f083e8e0\" y=\"139.494314\"/>\n      </g>\n     </g>\n     <g id=\"text_10\">\n      <!-- 60 -->\n      <g transform=\"translate(27.240625 143.293533)scale(0.1 -0.1)\">\n       <use xlink:href=\"#DejaVuSans-54\"/>\n       <use x=\"63.623047\" xlink:href=\"#DejaVuSans-48\"/>\n      </g>\n     </g>\n    </g>\n    <g id=\"ytick_4\">\n     <g id=\"line2d_10\">\n      <g>\n       <use style=\"stroke:#000000;stroke-width:0.8;\" x=\"46.965625\" xlink:href=\"#m75f083e8e0\" y=\"109.278013\"/>\n      </g>\n     </g>\n     <g id=\"text_11\">\n      <!-- 80 -->\n      <g transform=\"translate(27.240625 113.077232)scale(0.1 -0.1)\">\n       <use xlink:href=\"#DejaVuSans-56\"/>\n       <use x=\"63.623047\" xlink:href=\"#DejaVuSans-48\"/>\n      </g>\n     </g>\n    </g>\n    <g id=\"ytick_5\">\n     <g id=\"line2d_11\">\n      <g>\n       <use style=\"stroke:#000000;stroke-width:0.8;\" x=\"46.965625\" xlink:href=\"#m75f083e8e0\" y=\"79.061712\"/>\n      </g>\n     </g>\n     <g id=\"text_12\">\n      <!-- 100 -->\n      <g transform=\"translate(20.878125 82.86093)scale(0.1 -0.1)\">\n       <use xlink:href=\"#DejaVuSans-49\"/>\n       <use x=\"63.623047\" xlink:href=\"#DejaVuSans-48\"/>\n       <use x=\"127.246094\" xlink:href=\"#DejaVuSans-48\"/>\n      </g>\n     </g>\n    </g>\n    <g id=\"ytick_6\">\n     <g id=\"line2d_12\">\n      <g>\n       <use style=\"stroke:#000000;stroke-width:0.8;\" x=\"46.965625\" xlink:href=\"#m75f083e8e0\" y=\"48.845411\"/>\n      </g>\n     </g>\n     <g id=\"text_13\">\n      <!-- 120 -->\n      <g transform=\"translate(20.878125 52.644629)scale(0.1 -0.1)\">\n       <use xlink:href=\"#DejaVuSans-49\"/>\n       <use x=\"63.623047\" xlink:href=\"#DejaVuSans-50\"/>\n       <use x=\"127.246094\" xlink:href=\"#DejaVuSans-48\"/>\n      </g>\n     </g>\n    </g>\n    <g id=\"ytick_7\">\n     <g id=\"line2d_13\">\n      <g>\n       <use style=\"stroke:#000000;stroke-width:0.8;\" x=\"46.965625\" xlink:href=\"#m75f083e8e0\" y=\"18.629109\"/>\n      </g>\n     </g>\n     <g id=\"text_14\">\n      <!-- 140 -->\n      <g transform=\"translate(20.878125 22.428328)scale(0.1 -0.1)\">\n       <use xlink:href=\"#DejaVuSans-49\"/>\n       <use x=\"63.623047\" xlink:href=\"#DejaVuSans-52\"/>\n       <use x=\"127.246094\" xlink:href=\"#DejaVuSans-48\"/>\n      </g>\n     </g>\n    </g>\n    <g id=\"text_15\">\n     <!-- Error in $Q$-function -->\n     <g transform=\"translate(14.798438 162.22)rotate(-90)scale(0.1 -0.1)\">\n      <defs>\n       <path d=\"M 9.8125 72.90625 \nL 55.90625 72.90625 \nL 55.90625 64.59375 \nL 19.671875 64.59375 \nL 19.671875 43.015625 \nL 54.390625 43.015625 \nL 54.390625 34.71875 \nL 19.671875 34.71875 \nL 19.671875 8.296875 \nL 56.78125 8.296875 \nL 56.78125 0 \nL 9.8125 0 \nz\n\" id=\"DejaVuSans-69\"/>\n       <path d=\"M 36.078125 -1.3125 \nQ 35.546875 -1.375 34.953125 -1.390625 \nQ 34.375 -1.421875 33.203125 -1.421875 \nQ 19.53125 -1.421875 11.8125 6.421875 \nQ 4.109375 14.265625 4.109375 28.078125 \nQ 4.109375 36.234375 7.0625 44.4375 \nQ 10.015625 52.640625 15.28125 59.1875 \nQ 21.390625 66.703125 29.03125 70.453125 \nQ 36.671875 74.21875 45.90625 74.21875 \nQ 59.28125 74.21875 66.984375 66.328125 \nQ 74.703125 58.453125 74.703125 44.828125 \nQ 74.703125 30.125 66.640625 17.921875 \nQ 58.59375 5.71875 45.609375 0.6875 \nL 55.515625 -12.890625 \nL 44.484375 -12.890625 \nz\nM 45.609375 66.21875 \nQ 37.5 66.21875 31.296875 62.28125 \nQ 25.09375 58.34375 20.515625 50.296875 \nQ 17.578125 45.171875 16.03125 39.40625 \nQ 14.5 33.640625 14.5 27.78125 \nQ 14.5 17.625 19.359375 12.109375 \nQ 24.21875 6.59375 33.109375 6.59375 \nQ 41.109375 6.59375 47.375 10.5625 \nQ 53.65625 14.546875 58.109375 22.40625 \nQ 61.078125 27.6875 62.640625 33.46875 \nQ 64.203125 39.265625 64.203125 45.015625 \nQ 64.203125 55.125 59.3125 60.671875 \nQ 54.4375 66.21875 45.609375 66.21875 \nz\n\" id=\"DejaVuSans-Oblique-81\"/>\n       <path d=\"M 4.890625 31.390625 \nL 31.203125 31.390625 \nL 31.203125 23.390625 \nL 4.890625 23.390625 \nz\n\" id=\"DejaVuSans-45\"/>\n       <path d=\"M 37.109375 75.984375 \nL 37.109375 68.5 \nL 28.515625 68.5 \nQ 23.6875 68.5 21.796875 66.546875 \nQ 19.921875 64.59375 19.921875 59.515625 \nL 19.921875 54.6875 \nL 34.71875 54.6875 \nL 34.71875 47.703125 \nL 19.921875 47.703125 \nL 19.921875 0 \nL 10.890625 0 \nL 10.890625 47.703125 \nL 2.296875 47.703125 \nL 2.296875 54.6875 \nL 10.890625 54.6875 \nL 10.890625 58.5 \nQ 10.890625 67.625 15.140625 71.796875 \nQ 19.390625 75.984375 28.609375 75.984375 \nz\n\" id=\"DejaVuSans-102\"/>\n       <path d=\"M 8.5 21.578125 \nL 8.5 54.6875 \nL 17.484375 54.6875 \nL 17.484375 21.921875 \nQ 17.484375 14.15625 20.5 10.265625 \nQ 23.53125 6.390625 29.59375 6.390625 \nQ 36.859375 6.390625 41.078125 11.03125 \nQ 45.3125 15.671875 45.3125 23.6875 \nL 45.3125 54.6875 \nL 54.296875 54.6875 \nL 54.296875 0 \nL 45.3125 0 \nL 45.3125 8.40625 \nQ 42.046875 3.421875 37.71875 1 \nQ 33.40625 -1.421875 27.6875 -1.421875 \nQ 18.265625 -1.421875 13.375 4.4375 \nQ 8.5 10.296875 8.5 21.578125 \nz\nM 31.109375 56 \nz\n\" id=\"DejaVuSans-117\"/>\n       <path d=\"M 48.78125 52.59375 \nL 48.78125 44.1875 \nQ 44.96875 46.296875 41.140625 47.34375 \nQ 37.3125 48.390625 33.40625 48.390625 \nQ 24.65625 48.390625 19.8125 42.84375 \nQ 14.984375 37.3125 14.984375 27.296875 \nQ 14.984375 17.28125 19.8125 11.734375 \nQ 24.65625 6.203125 33.40625 6.203125 \nQ 37.3125 6.203125 41.140625 7.25 \nQ 44.96875 8.296875 48.78125 10.40625 \nL 48.78125 2.09375 \nQ 45.015625 0.34375 40.984375 -0.53125 \nQ 36.96875 -1.421875 32.421875 -1.421875 \nQ 20.0625 -1.421875 12.78125 6.34375 \nQ 5.515625 14.109375 5.515625 27.296875 \nQ 5.515625 40.671875 12.859375 48.328125 \nQ 20.21875 56 33.015625 56 \nQ 37.15625 56 41.109375 55.140625 \nQ 45.0625 54.296875 48.78125 52.59375 \nz\n\" id=\"DejaVuSans-99\"/>\n      </defs>\n      <use transform=\"translate(0 0.015625)\" xlink:href=\"#DejaVuSans-69\"/>\n      <use transform=\"translate(63.183594 0.015625)\" xlink:href=\"#DejaVuSans-114\"/>\n      <use transform=\"translate(104.296875 0.015625)\" xlink:href=\"#DejaVuSans-114\"/>\n      <use transform=\"translate(145.410156 0.015625)\" xlink:href=\"#DejaVuSans-111\"/>\n      <use transform=\"translate(206.591797 0.015625)\" xlink:href=\"#DejaVuSans-114\"/>\n      <use transform=\"translate(247.705078 0.015625)\" xlink:href=\"#DejaVuSans-32\"/>\n      <use transform=\"translate(279.492188 0.015625)\" xlink:href=\"#DejaVuSans-105\"/>\n      <use transform=\"translate(307.275391 0.015625)\" xlink:href=\"#DejaVuSans-110\"/>\n      <use transform=\"translate(370.654297 0.015625)\" xlink:href=\"#DejaVuSans-32\"/>\n      <use transform=\"translate(402.441406 0.015625)\" xlink:href=\"#DejaVuSans-Oblique-81\"/>\n      <use transform=\"translate(481.152344 0.015625)\" xlink:href=\"#DejaVuSans-45\"/>\n      <use transform=\"translate(517.236328 0.015625)\" xlink:href=\"#DejaVuSans-102\"/>\n      <use transform=\"translate(552.441406 0.015625)\" xlink:href=\"#DejaVuSans-117\"/>\n      <use transform=\"translate(615.820312 0.015625)\" xlink:href=\"#DejaVuSans-110\"/>\n      <use transform=\"translate(679.199219 0.015625)\" xlink:href=\"#DejaVuSans-99\"/>\n      <use transform=\"translate(734.179688 0.015625)\" xlink:href=\"#DejaVuSans-116\"/>\n      <use transform=\"translate(773.388672 0.015625)\" xlink:href=\"#DejaVuSans-105\"/>\n      <use transform=\"translate(801.171875 0.015625)\" xlink:href=\"#DejaVuSans-111\"/>\n      <use transform=\"translate(862.353516 0.015625)\" xlink:href=\"#DejaVuSans-110\"/>\n     </g>\n    </g>\n   </g>\n   <g id=\"line2d_14\">\n    <path clip-path=\"url(#pf573b54e34)\" d=\"M 62.183807 17.083636 \nL 63.705625 20.474235 \nL 64.618716 22.6688 \nL 65.227443 24.370783 \nL 65.83617 25.761433 \nL 67.357989 29.51002 \nL 68.27108 31.409328 \nL 69.18417 33.381333 \nL 70.097261 35.180561 \nL 71.61908 38.643145 \nL 72.836534 41.071229 \nL 73.445261 42.280014 \nL 74.96708 45.352223 \nL 75.88017 47.212208 \nL 76.184534 47.702227 \nL 77.401989 50.482546 \nL 82.271807 60.342444 \nL 83.489261 62.574256 \nL 84.097989 64.059427 \nL 87.750352 71.039051 \nL 91.402716 77.824609 \nL 92.011443 78.982539 \nL 93.228898 80.835859 \nL 95.96817 85.974355 \nL 96.576898 87.019279 \nL 97.489989 88.593435 \nL 100.533625 93.704258 \nL 101.75108 95.804808 \nL 103.272898 98.129771 \nL 104.185989 99.479789 \nL 104.490352 99.885204 \nL 105.403443 101.556343 \nL 107.229625 104.244709 \nL 108.142716 105.829514 \nL 108.751443 106.499935 \nL 109.36017 107.39141 \nL 109.968898 107.964955 \nL 111.490716 110.157977 \nL 115.751807 116.332667 \nL 117.273625 118.164862 \nL 117.882352 119.061682 \nL 118.49108 119.793925 \nL 120.925989 123.000681 \nL 124.273989 126.817307 \nL 125.491443 128.350595 \nL 128.839443 132.064536 \nL 129.752534 132.965559 \nL 130.665625 133.960689 \nL 130.969989 134.236999 \nL 131.88308 135.491027 \nL 132.491807 136.202488 \nL 134.317989 138.270697 \nL 135.23108 139.335673 \nL 135.535443 139.515246 \nL 136.752898 140.875157 \nL 141.013989 145.26645 \nL 141.92708 146.068131 \nL 142.84017 147.08508 \nL 143.448898 147.639287 \nL 144.057625 148.433092 \nL 144.361989 148.611709 \nL 145.579443 149.866963 \nL 146.18817 150.313206 \nL 147.101261 151.109305 \nL 149.231807 153.243695 \nL 150.144898 153.768928 \nL 150.753625 154.219474 \nL 151.666716 155.003511 \nL 153.188534 156.238709 \nL 153.492898 156.48257 \nL 154.405989 157.576704 \nL 155.31908 158.374943 \nL 155.927807 158.646942 \nL 156.840898 159.478184 \nL 159.884534 162.034677 \nL 163.536898 164.756642 \nL 163.841261 164.90282 \nL 164.449989 165.425479 \nL 164.754352 165.686941 \nL 165.36308 166.022576 \nL 165.667443 166.234454 \nL 166.27617 166.821865 \nL 170.537261 169.4283 \nL 171.145989 169.964285 \nL 172.05908 170.54952 \nL 172.667807 170.930506 \nL 174.493989 172.082354 \nL 174.798352 172.188494 \nL 175.102716 172.474957 \nL 175.711443 172.784751 \nL 176.928898 173.740671 \nL 179.66817 175.396949 \nL 180.276898 175.879357 \nL 182.10308 176.803593 \nL 182.711807 177.207759 \nL 183.320534 177.568315 \nL 184.233625 178.012868 \nL 186.36417 179.239831 \nL 186.972898 179.465545 \nL 188.190352 180.059219 \nL 188.79908 180.211808 \nL 190.016534 180.805433 \nL 191.842716 181.821525 \nL 192.14708 181.872653 \nL 193.06017 182.312432 \nL 195.799443 183.651089 \nL 197.321261 184.579833 \nL 197.625625 184.705546 \nL 197.929989 185.044377 \nL 200.364898 186.11573 \nL 202.495443 186.957942 \nL 203.10417 187.214123 \nL 203.408534 187.312124 \nL 204.017261 187.647225 \nL 204.321625 187.825238 \nL 205.234716 188.044683 \nL 205.843443 188.206383 \nL 207.365261 188.824859 \nL 209.191443 189.763786 \nL 209.80017 189.967819 \nL 211.321989 190.518738 \nL 212.843807 191.042813 \nL 215.58308 191.951175 \nL 216.191807 192.296332 \nL 217.409261 192.86377 \nL 218.322352 193.161019 \nL 218.93108 193.305393 \nL 219.235443 193.326479 \nL 220.148534 193.64628 \nL 221.365989 194.077168 \nL 222.583443 194.468042 \nL 223.19217 194.615549 \nL 224.105261 194.973307 \nL 224.713989 195.417718 \nL 227.453261 196.155157 \nL 228.061989 196.417329 \nL 228.670716 196.541144 \nL 229.88817 197.011222 \nL 234.453625 198.524987 \nL 235.975443 199.116363 \nL 236.58417 199.218929 \nL 237.497261 199.442128 \nL 238.714716 199.851959 \nL 240.236534 200.22651 \nL 241.149625 200.465988 \nL 241.758352 200.651546 \nL 242.36708 200.740682 \nL 242.975807 200.882384 \nL 243.888898 201.204177 \nL 244.497625 201.294534 \nL 245.106352 201.463002 \nL 247.236898 201.9339 \nL 247.845625 202.082105 \nL 248.758716 202.316682 \nL 249.367443 202.570973 \nL 249.671807 202.592265 \nL 250.280534 202.834762 \nL 251.193625 202.947271 \nL 252.41108 203.198304 \nL 253.628534 203.405062 \nL 254.541625 203.690123 \nL 257.585261 204.46822 \nL 260.02017 205.253439 \nL 260.628898 205.362128 \nL 261.541989 205.594289 \nL 263.063807 205.808055 \nL 264.585625 206.056125 \nL 268.542352 206.54832 \nL 276.151443 207.920556 \nL 280.716898 208.489936 \nL 283.45617 209.000827 \nL 284.064898 209.054887 \nL 284.673625 209.164533 \nL 286.499807 209.401379 \nL 295.326352 210.58648 \nL 296.543807 210.729472 \nL 299.28308 211.077934 \nL 299.891807 211.12864 \nL 302.022352 211.239173 \nL 303.54417 211.315812 \nL 305.370352 211.575128 \nL 306.283443 211.522676 \nL 306.89217 211.703348 \nL 312.066352 211.93063 \nL 313.892534 212.082834 \nL 315.109989 212.260616 \nL 316.631807 212.362273 \nL 317.240534 212.454039 \nL 319.37108 212.409546 \nL 322.110352 212.709347 \nL 325.153989 213.149939 \nL 326.371443 213.128527 \nL 328.806352 213.305966 \nL 329.719443 213.281732 \nL 330.023807 213.354542 \nL 330.632534 213.324087 \nL 338.545989 213.551177 \nL 339.763443 213.655836 \nL 340.980898 213.669607 \nL 342.502716 213.527854 \nL 344.937625 213.642186 \nL 347.06817 213.842025 \nL 348.894352 213.935898 \nL 349.50308 213.934438 \nL 353.459807 214.36484 \nL 357.720898 214.300593 \nL 366.547443 214.728426 \nL 366.547443 214.728426 \n\" style=\"fill:none;stroke:#1f77b4;stroke-linecap:square;stroke-width:1.5;\"/>\n   </g>\n   <g id=\"line2d_15\">\n    <path clip-path=\"url(#pf573b54e34)\" d=\"M 62.183807 17.083636 \nL 64.314352 18.793692 \nL 66.140534 20.260123 \nL 68.879807 22.380013 \nL 69.792898 23.142441 \nL 72.227807 24.974847 \nL 74.96708 27.123631 \nL 81.967443 32.468189 \nL 82.880534 33.052897 \nL 85.619807 35.127563 \nL 87.141625 36.190012 \nL 94.750716 41.6229 \nL 97.794352 43.724712 \nL 104.490352 48.443908 \nL 105.403443 49.056498 \nL 107.838352 50.73182 \nL 109.36017 51.830343 \nL 110.273261 52.366926 \nL 113.012534 54.142616 \nL 113.925625 54.603577 \nL 116.969261 56.617812 \nL 117.882352 57.213296 \nL 120.925989 59.273536 \nL 123.360898 60.822479 \nL 124.882716 61.891487 \nL 128.53508 64.311569 \nL 129.752534 65.043359 \nL 135.535443 68.516504 \nL 139.49217 70.989888 \nL 142.231443 72.580606 \nL 146.796898 75.364365 \nL 147.709989 75.829705 \nL 152.88417 78.982081 \nL 153.797261 79.45737 \nL 155.014716 80.23139 \nL 162.92817 84.428655 \nL 164.754352 85.374722 \nL 176.928898 91.928368 \nL 178.146352 92.527928 \nL 181.189989 94.263366 \nL 182.10308 94.714725 \nL 183.320534 95.318075 \nL 188.494716 97.946177 \nL 190.625261 99.140686 \nL 193.973261 100.870264 \nL 194.886352 101.304859 \nL 196.40817 102.041515 \nL 199.451807 103.532276 \nL 207.669625 107.482015 \nL 208.582716 107.832199 \nL 211.017625 109.021501 \nL 217.104898 111.697139 \nL 220.148534 113.198895 \nL 221.974716 113.925549 \nL 223.496534 114.607647 \nL 228.366352 116.725661 \nL 230.496898 117.71796 \nL 250.889261 126.305608 \nL 253.32417 127.239405 \nL 259.715807 129.846047 \nL 263.36817 131.219296 \nL 263.976898 131.391919 \nL 276.76017 136.340061 \nL 277.977625 136.701306 \nL 280.10817 137.387488 \nL 282.847443 138.375054 \nL 288.630352 140.591389 \nL 295.326352 143.026408 \nL 296.543807 143.364742 \nL 298.369989 143.949666 \nL 302.935443 145.514506 \nL 304.457261 146.014402 \nL 306.283443 146.623052 \nL 311.457625 148.313569 \nL 313.283807 148.882947 \nL 316.02308 149.766061 \nL 335.502352 155.612629 \nL 336.719807 155.997787 \nL 346.15508 158.731911 \nL 347.676898 159.202626 \nL 349.198716 159.492466 \nL 361.677625 163.029261 \nL 366.547443 164.171602 \nL 366.547443 164.171602 \n\" style=\"fill:none;stroke:#ff7f0e;stroke-linecap:square;stroke-width:1.5;\"/>\n   </g>\n   <g id=\"line2d_16\">\n    <path clip-path=\"url(#pf573b54e34)\" d=\"M 62.183807 17.083636 \nL 64.92308 19.293011 \nL 73.140898 25.239052 \nL 74.053989 25.895834 \nL 75.88017 27.274132 \nL 84.097989 33.484069 \nL 85.315443 34.330595 \nL 89.27217 37.099745 \nL 90.489625 37.878664 \nL 92.011443 39.059158 \nL 109.968898 51.158628 \nL 123.665261 59.911767 \nL 128.230716 62.708072 \nL 130.361261 64.05422 \nL 131.578716 64.803523 \nL 133.709261 66.167271 \nL 134.926716 66.847709 \nL 135.839807 67.450286 \nL 136.448534 67.78714 \nL 139.796534 69.715088 \nL 141.318352 70.734626 \nL 142.84017 71.567749 \nL 144.361989 72.564083 \nL 146.796898 74.10037 \nL 147.709989 74.630316 \nL 165.058716 84.295344 \nL 166.580534 85.072682 \nL 167.797989 85.643301 \nL 169.928534 86.818075 \nL 175.40708 89.841717 \nL 178.450716 91.254981 \nL 179.972534 92.05255 \nL 185.45108 94.971031 \nL 192.451443 98.401512 \nL 193.06017 98.653188 \nL 194.581989 99.418877 \nL 196.40817 100.26879 \nL 197.321261 100.674962 \nL 199.147443 101.493006 \nL 201.277989 102.592182 \nL 214.365625 108.446292 \nL 215.887443 108.979258 \nL 225.62708 113.184188 \nL 228.366352 114.477155 \nL 235.975443 117.714852 \nL 237.801625 118.433671 \nL 244.497625 121.11918 \nL 245.71508 121.561787 \nL 251.497989 124.088218 \nL 252.41108 124.497234 \nL 253.932898 125.02855 \nL 256.367807 126.057097 \nL 258.498352 126.730062 \nL 261.846352 128.125998 \nL 263.063807 128.555375 \nL 267.020534 130.103957 \nL 268.542352 130.743695 \nL 270.06417 131.296555 \nL 272.803443 132.299091 \nL 273.716534 132.60895 \nL 274.933989 132.997732 \nL 279.499443 134.68965 \nL 281.629989 135.515726 \nL 283.151807 136.091509 \nL 288.630352 138.025173 \nL 290.456534 138.652002 \nL 300.500534 142.078984 \nL 302.63108 142.894252 \nL 310.544534 145.278198 \nL 312.979443 146.112948 \nL 315.414352 146.809125 \nL 316.631807 147.245832 \nL 324.545261 149.736084 \nL 325.458352 150.01301 \nL 329.719443 151.237389 \nL 339.763443 153.956379 \nL 340.980898 154.371859 \nL 350.41617 157.22835 \nL 353.459807 158.05736 \nL 354.677261 158.348629 \nL 356.503443 158.722787 \nL 361.068898 159.925702 \nL 365.634352 161.043834 \nL 366.547443 161.218686 \nL 366.547443 161.218686 \n\" style=\"fill:none;stroke:#2ca02c;stroke-linecap:square;stroke-width:1.5;\"/>\n   </g>\n   <g id=\"patch_3\">\n    <path d=\"M 46.965625 224.64 \nL 46.965625 7.2 \n\" style=\"fill:none;stroke:#000000;stroke-linecap:square;stroke-linejoin:miter;stroke-width:0.8;\"/>\n   </g>\n   <g id=\"patch_4\">\n    <path d=\"M 381.765625 224.64 \nL 381.765625 7.2 \n\" style=\"fill:none;stroke:#000000;stroke-linecap:square;stroke-linejoin:miter;stroke-width:0.8;\"/>\n   </g>\n   <g id=\"patch_5\">\n    <path d=\"M 46.965625 224.64 \nL 381.765625 224.64 \n\" style=\"fill:none;stroke:#000000;stroke-linecap:square;stroke-linejoin:miter;stroke-width:0.8;\"/>\n   </g>\n   <g id=\"patch_6\">\n    <path d=\"M 46.965625 7.2 \nL 381.765625 7.2 \n\" style=\"fill:none;stroke:#000000;stroke-linecap:square;stroke-linejoin:miter;stroke-width:0.8;\"/>\n   </g>\n   <g id=\"legend_1\">\n    <g id=\"patch_7\">\n     <path d=\"M 235.398438 59.234375 \nL 374.765625 59.234375 \nQ 376.765625 59.234375 376.765625 57.234375 \nL 376.765625 14.2 \nQ 376.765625 12.2 374.765625 12.2 \nL 235.398438 12.2 \nQ 233.398438 12.2 233.398438 14.2 \nL 233.398438 57.234375 \nQ 233.398438 59.234375 235.398438 59.234375 \nz\n\" style=\"fill:#ffffff;opacity:0.8;stroke:#cccccc;stroke-linejoin:miter;\"/>\n    </g>\n    <g id=\"line2d_17\">\n     <path d=\"M 237.398438 20.298437 \nL 257.398438 20.298437 \n\" style=\"fill:none;stroke:#1f77b4;stroke-linecap:square;stroke-width:1.5;\"/>\n    </g>\n    <g id=\"line2d_18\"/>\n    <g id=\"text_16\">\n     <!-- Model based learning -->\n     <g transform=\"translate(265.398438 23.798437)scale(0.1 -0.1)\">\n      <defs>\n       <path d=\"M 9.8125 72.90625 \nL 24.515625 72.90625 \nL 43.109375 23.296875 \nL 61.8125 72.90625 \nL 76.515625 72.90625 \nL 76.515625 0 \nL 66.890625 0 \nL 66.890625 64.015625 \nL 48.09375 14.015625 \nL 38.1875 14.015625 \nL 19.390625 64.015625 \nL 19.390625 0 \nL 9.8125 0 \nz\n\" id=\"DejaVuSans-77\"/>\n       <path d=\"M 45.40625 46.390625 \nL 45.40625 75.984375 \nL 54.390625 75.984375 \nL 54.390625 0 \nL 45.40625 0 \nL 45.40625 8.203125 \nQ 42.578125 3.328125 38.25 0.953125 \nQ 33.9375 -1.421875 27.875 -1.421875 \nQ 17.96875 -1.421875 11.734375 6.484375 \nQ 5.515625 14.40625 5.515625 27.296875 \nQ 5.515625 40.1875 11.734375 48.09375 \nQ 17.96875 56 27.875 56 \nQ 33.9375 56 38.25 53.625 \nQ 42.578125 51.265625 45.40625 46.390625 \nz\nM 14.796875 27.296875 \nQ 14.796875 17.390625 18.875 11.75 \nQ 22.953125 6.109375 30.078125 6.109375 \nQ 37.203125 6.109375 41.296875 11.75 \nQ 45.40625 17.390625 45.40625 27.296875 \nQ 45.40625 37.203125 41.296875 42.84375 \nQ 37.203125 48.484375 30.078125 48.484375 \nQ 22.953125 48.484375 18.875 42.84375 \nQ 14.796875 37.203125 14.796875 27.296875 \nz\n\" id=\"DejaVuSans-100\"/>\n       <path d=\"M 9.421875 75.984375 \nL 18.40625 75.984375 \nL 18.40625 0 \nL 9.421875 0 \nz\n\" id=\"DejaVuSans-108\"/>\n       <path d=\"M 48.6875 27.296875 \nQ 48.6875 37.203125 44.609375 42.84375 \nQ 40.53125 48.484375 33.40625 48.484375 \nQ 26.265625 48.484375 22.1875 42.84375 \nQ 18.109375 37.203125 18.109375 27.296875 \nQ 18.109375 17.390625 22.1875 11.75 \nQ 26.265625 6.109375 33.40625 6.109375 \nQ 40.53125 6.109375 44.609375 11.75 \nQ 48.6875 17.390625 48.6875 27.296875 \nz\nM 18.109375 46.390625 \nQ 20.953125 51.265625 25.265625 53.625 \nQ 29.59375 56 35.59375 56 \nQ 45.5625 56 51.78125 48.09375 \nQ 58.015625 40.1875 58.015625 27.296875 \nQ 58.015625 14.40625 51.78125 6.484375 \nQ 45.5625 -1.421875 35.59375 -1.421875 \nQ 29.59375 -1.421875 25.265625 0.953125 \nQ 20.953125 3.328125 18.109375 8.203125 \nL 18.109375 0 \nL 9.078125 0 \nL 9.078125 75.984375 \nL 18.109375 75.984375 \nz\n\" id=\"DejaVuSans-98\"/>\n       <path d=\"M 45.40625 27.984375 \nQ 45.40625 37.75 41.375 43.109375 \nQ 37.359375 48.484375 30.078125 48.484375 \nQ 22.859375 48.484375 18.828125 43.109375 \nQ 14.796875 37.75 14.796875 27.984375 \nQ 14.796875 18.265625 18.828125 12.890625 \nQ 22.859375 7.515625 30.078125 7.515625 \nQ 37.359375 7.515625 41.375 12.890625 \nQ 45.40625 18.265625 45.40625 27.984375 \nz\nM 54.390625 6.78125 \nQ 54.390625 -7.171875 48.1875 -13.984375 \nQ 42 -20.796875 29.203125 -20.796875 \nQ 24.46875 -20.796875 20.265625 -20.09375 \nQ 16.0625 -19.390625 12.109375 -17.921875 \nL 12.109375 -9.1875 \nQ 16.0625 -11.328125 19.921875 -12.34375 \nQ 23.78125 -13.375 27.78125 -13.375 \nQ 36.625 -13.375 41.015625 -8.765625 \nQ 45.40625 -4.15625 45.40625 5.171875 \nL 45.40625 9.625 \nQ 42.625 4.78125 38.28125 2.390625 \nQ 33.9375 0 27.875 0 \nQ 17.828125 0 11.671875 7.65625 \nQ 5.515625 15.328125 5.515625 27.984375 \nQ 5.515625 40.671875 11.671875 48.328125 \nQ 17.828125 56 27.875 56 \nQ 33.9375 56 38.28125 53.609375 \nQ 42.625 51.21875 45.40625 46.390625 \nL 45.40625 54.6875 \nL 54.390625 54.6875 \nz\n\" id=\"DejaVuSans-103\"/>\n      </defs>\n      <use xlink:href=\"#DejaVuSans-77\"/>\n      <use x=\"86.279297\" xlink:href=\"#DejaVuSans-111\"/>\n      <use x=\"147.460938\" xlink:href=\"#DejaVuSans-100\"/>\n      <use x=\"210.9375\" xlink:href=\"#DejaVuSans-101\"/>\n      <use x=\"272.460938\" xlink:href=\"#DejaVuSans-108\"/>\n      <use x=\"300.244141\" xlink:href=\"#DejaVuSans-32\"/>\n      <use x=\"332.03125\" xlink:href=\"#DejaVuSans-98\"/>\n      <use x=\"395.507812\" xlink:href=\"#DejaVuSans-97\"/>\n      <use x=\"456.787109\" xlink:href=\"#DejaVuSans-115\"/>\n      <use x=\"508.886719\" xlink:href=\"#DejaVuSans-101\"/>\n      <use x=\"570.410156\" xlink:href=\"#DejaVuSans-100\"/>\n      <use x=\"633.886719\" xlink:href=\"#DejaVuSans-32\"/>\n      <use x=\"665.673828\" xlink:href=\"#DejaVuSans-108\"/>\n      <use x=\"693.457031\" xlink:href=\"#DejaVuSans-101\"/>\n      <use x=\"754.980469\" xlink:href=\"#DejaVuSans-97\"/>\n      <use x=\"816.259766\" xlink:href=\"#DejaVuSans-114\"/>\n      <use x=\"855.623047\" xlink:href=\"#DejaVuSans-110\"/>\n      <use x=\"919.001953\" xlink:href=\"#DejaVuSans-105\"/>\n      <use x=\"946.785156\" xlink:href=\"#DejaVuSans-110\"/>\n      <use x=\"1010.164062\" xlink:href=\"#DejaVuSans-103\"/>\n     </g>\n    </g>\n    <g id=\"line2d_19\">\n     <path d=\"M 237.398438 34.976562 \nL 257.398438 34.976562 \n\" style=\"fill:none;stroke:#ff7f0e;stroke-linecap:square;stroke-width:1.5;\"/>\n    </g>\n    <g id=\"line2d_20\"/>\n    <g id=\"text_17\">\n     <!-- Q-learning -->\n     <g transform=\"translate(265.398438 38.476562)scale(0.1 -0.1)\">\n      <defs>\n       <path d=\"M 39.40625 66.21875 \nQ 28.65625 66.21875 22.328125 58.203125 \nQ 16.015625 50.203125 16.015625 36.375 \nQ 16.015625 22.609375 22.328125 14.59375 \nQ 28.65625 6.59375 39.40625 6.59375 \nQ 50.140625 6.59375 56.421875 14.59375 \nQ 62.703125 22.609375 62.703125 36.375 \nQ 62.703125 50.203125 56.421875 58.203125 \nQ 50.140625 66.21875 39.40625 66.21875 \nz\nM 53.21875 1.3125 \nL 66.21875 -12.890625 \nL 54.296875 -12.890625 \nL 43.5 -1.21875 \nQ 41.890625 -1.3125 41.03125 -1.359375 \nQ 40.1875 -1.421875 39.40625 -1.421875 \nQ 24.03125 -1.421875 14.8125 8.859375 \nQ 5.609375 19.140625 5.609375 36.375 \nQ 5.609375 53.65625 14.8125 63.9375 \nQ 24.03125 74.21875 39.40625 74.21875 \nQ 54.734375 74.21875 63.90625 63.9375 \nQ 73.09375 53.65625 73.09375 36.375 \nQ 73.09375 23.6875 67.984375 14.640625 \nQ 62.890625 5.609375 53.21875 1.3125 \nz\n\" id=\"DejaVuSans-81\"/>\n      </defs>\n      <use xlink:href=\"#DejaVuSans-81\"/>\n      <use x=\"81.460938\" xlink:href=\"#DejaVuSans-45\"/>\n      <use x=\"117.544922\" xlink:href=\"#DejaVuSans-108\"/>\n      <use x=\"145.328125\" xlink:href=\"#DejaVuSans-101\"/>\n      <use x=\"206.851562\" xlink:href=\"#DejaVuSans-97\"/>\n      <use x=\"268.130859\" xlink:href=\"#DejaVuSans-114\"/>\n      <use x=\"307.494141\" xlink:href=\"#DejaVuSans-110\"/>\n      <use x=\"370.873047\" xlink:href=\"#DejaVuSans-105\"/>\n      <use x=\"398.65625\" xlink:href=\"#DejaVuSans-110\"/>\n      <use x=\"462.035156\" xlink:href=\"#DejaVuSans-103\"/>\n     </g>\n    </g>\n    <g id=\"line2d_21\">\n     <path d=\"M 237.398438 49.654687 \nL 257.398438 49.654687 \n\" style=\"fill:none;stroke:#2ca02c;stroke-linecap:square;stroke-width:1.5;\"/>\n    </g>\n    <g id=\"line2d_22\"/>\n    <g id=\"text_18\">\n     <!-- SARSA -->\n     <g transform=\"translate(265.398438 53.154687)scale(0.1 -0.1)\">\n      <defs>\n       <path d=\"M 53.515625 70.515625 \nL 53.515625 60.890625 \nQ 47.90625 63.578125 42.921875 64.890625 \nQ 37.9375 66.21875 33.296875 66.21875 \nQ 25.25 66.21875 20.875 63.09375 \nQ 16.5 59.96875 16.5 54.203125 \nQ 16.5 49.359375 19.40625 46.890625 \nQ 22.3125 44.4375 30.421875 42.921875 \nL 36.375 41.703125 \nQ 47.40625 39.59375 52.65625 34.296875 \nQ 57.90625 29 57.90625 20.125 \nQ 57.90625 9.515625 50.796875 4.046875 \nQ 43.703125 -1.421875 29.984375 -1.421875 \nQ 24.8125 -1.421875 18.96875 -0.25 \nQ 13.140625 0.921875 6.890625 3.21875 \nL 6.890625 13.375 \nQ 12.890625 10.015625 18.65625 8.296875 \nQ 24.421875 6.59375 29.984375 6.59375 \nQ 38.421875 6.59375 43.015625 9.90625 \nQ 47.609375 13.234375 47.609375 19.390625 \nQ 47.609375 24.75 44.3125 27.78125 \nQ 41.015625 30.8125 33.5 32.328125 \nL 27.484375 33.5 \nQ 16.453125 35.6875 11.515625 40.375 \nQ 6.59375 45.0625 6.59375 53.421875 \nQ 6.59375 63.09375 13.40625 68.65625 \nQ 20.21875 74.21875 32.171875 74.21875 \nQ 37.3125 74.21875 42.625 73.28125 \nQ 47.953125 72.359375 53.515625 70.515625 \nz\n\" id=\"DejaVuSans-83\"/>\n       <path d=\"M 34.1875 63.1875 \nL 20.796875 26.90625 \nL 47.609375 26.90625 \nz\nM 28.609375 72.90625 \nL 39.796875 72.90625 \nL 67.578125 0 \nL 57.328125 0 \nL 50.6875 18.703125 \nL 17.828125 18.703125 \nL 11.1875 0 \nL 0.78125 0 \nz\n\" id=\"DejaVuSans-65\"/>\n       <path d=\"M 44.390625 34.1875 \nQ 47.5625 33.109375 50.5625 29.59375 \nQ 53.5625 26.078125 56.59375 19.921875 \nL 66.609375 0 \nL 56 0 \nL 46.6875 18.703125 \nQ 43.0625 26.03125 39.671875 28.421875 \nQ 36.28125 30.8125 30.421875 30.8125 \nL 19.671875 30.8125 \nL 19.671875 0 \nL 9.8125 0 \nL 9.8125 72.90625 \nL 32.078125 72.90625 \nQ 44.578125 72.90625 50.734375 67.671875 \nQ 56.890625 62.453125 56.890625 51.90625 \nQ 56.890625 45.015625 53.6875 40.46875 \nQ 50.484375 35.9375 44.390625 34.1875 \nz\nM 19.671875 64.796875 \nL 19.671875 38.921875 \nL 32.078125 38.921875 \nQ 39.203125 38.921875 42.84375 42.21875 \nQ 46.484375 45.515625 46.484375 51.90625 \nQ 46.484375 58.296875 42.84375 61.546875 \nQ 39.203125 64.796875 32.078125 64.796875 \nz\n\" id=\"DejaVuSans-82\"/>\n      </defs>\n      <use xlink:href=\"#DejaVuSans-83\"/>\n      <use x=\"65.351562\" xlink:href=\"#DejaVuSans-65\"/>\n      <use x=\"133.759766\" xlink:href=\"#DejaVuSans-82\"/>\n      <use x=\"203.242188\" xlink:href=\"#DejaVuSans-83\"/>\n      <use x=\"268.59375\" xlink:href=\"#DejaVuSans-65\"/>\n     </g>\n    </g>\n   </g>\n  </g>\n </g>\n <defs>\n  <clipPath id=\"pf573b54e34\">\n   <rect height=\"217.44\" width=\"334.8\" x=\"46.965625\" y=\"7.2\"/>\n  </clipPath>\n </defs>\n</svg>\n",
      "image/png": "[encoded data removed]"
     },
     "metadata": {
      "needs_background": "light"
     }
    }
   ],
   "source": [
    "%matplotlib inline\n",
    "\n",
    "import matplotlib.pyplot as plt\n",
    "\n",
    "STEPS = 10\n",
    "ITERS = 1000\n",
    "RUNS  = 10\n",
    "\n",
    "iters = range(0, STEPS * ITERS + 1, STEPS)\n",
    "\n",
    "# Error matrices\n",
    "Emb = np.zeros(ITERS + 1)\n",
    "Eql = np.zeros(ITERS + 1)\n",
    "Ess = np.zeros(ITERS + 1)\n",
    "\n",
    "Emb[0] = np.linalg.norm(Qopt) * RUNS\n",
    "Eql[0] = Emb[0]\n",
    "Ess[0] = Emb[0]\n",
    "\n",
    "for n in range (RUNS):\n",
    "\n",
    "    # Initialization\n",
    "    pmb = ()\n",
    "    for a in range(len(M[1])):\n",
    "        pmb += (np.eye(len(M[0])),)\n",
    "    cmb = np.zeros((len(M[0]), len(M[1])))\n",
    "    qmb = np.zeros((len(M[0]), len(M[1])))\n",
    "\n",
    "    qql = np.zeros((len(M[0]), len(M[1])))\n",
    "\n",
    "    qss = np.zeros((len(M[0]), len(M[1])))\n",
    "\n",
    "    # Run evaluation\n",
    "    for t in range(ITERS):\n",
    "        qmb, pmb, cmb = mb_learning(M, STEPS, qmb, pmb, cmb)\n",
    "        Emb[t + 1] += np.linalg.norm(Qopt - qmb)\n",
    "\n",
    "        qql = qlearning(M, STEPS, qql)\n",
    "        Eql[t + 1] += np.linalg.norm(Qopt - qql)\n",
    "\n",
    "        qss = sarsa(M, STEPS, qss)\n",
    "        Ess[t + 1] += np.linalg.norm(Qopt - qss)\n",
    "        \n",
    "Emb /= RUNS\n",
    "Eql /= RUNS\n",
    "Ess /= RUNS\n",
    "\n",
    "plt.figure()\n",
    "plt.plot(iters, Emb, label='Model based learning')\n",
    "plt.plot(iters, Eql, label='Q-learning')\n",
    "plt.plot(iters, Ess, label='SARSA')\n",
    "plt.legend()\n",
    "plt.xlabel('N. iterations')\n",
    "plt.ylabel('Error in $Q$-function')"
   ]
  },
  {
   "cell_type": "markdown",
   "metadata": {},
   "source": [
    "You can also run the following code, to compare the performance of the three methods.\n",
    "\n",
    "```python\n",
    "%matplotlib inline\n",
    "\n",
    "import matplotlib.pyplot as plt\n",
    "\n",
    "STEPS = 10\n",
    "ITERS = 1000\n",
    "RUNS  = 10\n",
    "\n",
    "iters = range(0, STEPS * ITERS + 1, STEPS)\n",
    "\n",
    "# Error matrices\n",
    "Emb = np.zeros(ITERS + 1)\n",
    "Eql = np.zeros(ITERS + 1)\n",
    "Ess = np.zeros(ITERS + 1)\n",
    "\n",
    "Emb[0] = np.linalg.norm(Qopt) * RUNS\n",
    "Eql[0] = Emb[0]\n",
    "Ess[0] = Emb[0]\n",
    "\n",
    "for n in range (RUNS):\n",
    "\n",
    "    # Initialization\n",
    "    pmb = ()\n",
    "    for a in range(len(M[1])):\n",
    "        pmb += (np.eye(len(M[0])),)\n",
    "    cmb = np.zeros((len(M[0]), len(M[1])))\n",
    "    qmb = np.zeros((len(M[0]), len(M[1])))\n",
    "\n",
    "    qql = np.zeros((len(M[0]), len(M[1])))\n",
    "\n",
    "    qss = np.zeros((len(M[0]), len(M[1])))\n",
    "\n",
    "    # Run evaluation\n",
    "    for t in range(ITERS):\n",
    "        qmb, pmb, cmb = mb_learning(M, STEPS, qmb, pmb, cmb)\n",
    "        Emb[t + 1] += np.linalg.norm(Qopt - qmb)\n",
    "\n",
    "        qql = qlearning(M, STEPS, qql)\n",
    "        Eql[t + 1] += np.linalg.norm(Qopt - qql)\n",
    "\n",
    "        qss = sarsa(M, STEPS, qss)\n",
    "        Ess[t + 1] += np.linalg.norm(Qopt - qss)\n",
    "        \n",
    "Emb /= RUNS\n",
    "Eql /= RUNS\n",
    "Ess /= RUNS\n",
    "\n",
    "plt.figure()\n",
    "plt.plot(iters, Emb, label='Model based learning')\n",
    "plt.plot(iters, Eql, label='Q-learning')\n",
    "plt.plot(iters, Ess, label='SARSA')\n",
    "plt.legend()\n",
    "plt.xlabel('N. iterations')\n",
    "plt.ylabel('Error in $Q$-function')\n",
    "```\n",
    "\n",
    "As the output, you should observe the following plot.\n",
    "\n",
    "<img src=\"plot.png\" align=\"left\">"
   ]
  },
  {
   "cell_type": "markdown",
   "metadata": {},
   "source": [
    "---\n",
    "\n",
    "#### Activity 6.\n",
    "\n",
    "Discuss the differences observed between the performance of the three methods.\n",
    "\n",
    "---"
   ]
  },
  {
   "cell_type": "markdown",
   "metadata": {},
   "source": [
    "<span style=\"color:blue\">Add your comments here.</span>"
   ]
  }
 ],
 "metadata": {
  "celltoolbar": "Raw Cell Format",
  "kernelspec": {
   "display_name": "Python 3",
   "language": "python",
   "name": "python3"
  },
  "language_info": {
   "codemirror_mode": {
    "name": "ipython",
    "version": 3
   },
   "file_extension": ".py",
   "mimetype": "text/x-python",
   "name": "python",
   "nbconvert_exporter": "python",
   "pygments_lexer": "ipython3",
   "version": "3.6.9-final"
  },
  "latex_envs": {
   "LaTeX_envs_menu_present": true,
   "autoclose": false,
   "autocomplete": true,
   "bibliofile": "biblio.bib",
   "cite_by": "apalike",
   "current_citInitial": 1,
   "eqLabelWithNumbers": true,
   "eqNumInitial": 1,
   "hotkeys": {
    "equation": "Ctrl-E",
    "itemize": "Ctrl-I"
   },
   "labels_anchors": false,
   "latex_user_defs": false,
   "report_style_numbering": false,
   "user_envs_cfg": false
  }
 },
 "nbformat": 4,
 "nbformat_minor": 1
}