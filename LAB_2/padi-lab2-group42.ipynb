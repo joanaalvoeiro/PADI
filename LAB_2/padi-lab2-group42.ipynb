{
 "cells": [
  {
   "cell_type": "markdown",
   "metadata": {},
   "source": [
    "# Learning and Decision Making"
   ]
  },
  {
   "cell_type": "markdown",
   "metadata": {},
   "source": [
    "## Laboratory 2: Markov decision problems\n",
    "\n",
    "In the end of the lab, you should export the notebook to a Python script (File >> Download as >> Python (.py)). Your file should be named `padi-lab2-groupXX.py`, where the `XX` corresponds to your group number and should be submitted to the e-mail <adi.tecnico@gmail.com>. \n",
    "\n",
    "Make sure...\n",
    "\n",
    "* **... that the subject is of the form `[<group n.>] LAB <lab n.>`.** \n",
    "\n",
    "* **... to strictly respect the specifications in each activity, in terms of the intended inputs, outputs and naming conventions.** \n",
    "\n",
    "In particular, after completing the activities you should be able to replicate the examples provided (although this, in itself, is no guarantee that the activities are correctly completed).\n",
    "\n",
    "### 1. The MDP Model\n",
    "\n",
    "Consider once again the \"Doom\" domain, described in the Homework which you modeled using a Markov decision process. In this environment, \n",
    "\n",
    "* The agent can move in any of the four directions: up, down, left, and right. \n",
    "* Movement across a grey cell division succeeds with a 0.8 probability and fails with a 0.2 probability. \n",
    "* Movements across colored cell divisions (blue or red) succeed with a 0.8 probability (and fail with a probability 0.2) only if the agent has the corresponding colored key. Otherwise, they fail with probability 1. To get a colored key, the agent simply needs to stand in the corresponding cell.\n",
    "* When the movement fails, the agent remains in the same cell. \n",
    "* The action that takes the agent through the exit always succeeds.  \n",
    "\n",
    "In this lab you will interact with larger version of the same problem. You will use an MDP based on the aforementioned domain and investigate how to evaluate, solve and simulate a Markov decision problem. The domain is represented in the diagram below.\n",
    "\n",
    "<img src=\"maze.png\" width=\"400px\">\n",
    "\n",
    "We consider that the agent is never in a cell $c\\geq 17$ without a red key, and is never in a cell $c\\geq28$ without a blue key. **Throughout the lab, unless if stated otherwise, use $\\gamma=0.9$.**\n",
    "\n",
    "$$\\diamond$$\n",
    "\n",
    "In this first activity, you will implement an MDP model in Python. You will start by loading the MDP information from a `numpy` binary file, using the `numpy` function `load`. The file contains the list of states, actions, the transition probability matrices and cost function."
   ]
  },
  {
   "cell_type": "markdown",
   "metadata": {},
   "source": [
    "---\n",
    "\n",
    "#### Activity 1.        \n",
    "\n",
    "Write a function named `load_mdp` that receives, as input, a string corresponding to the name of the file with the MDP information, and a real number $\\gamma$ between $0$ and $1$. The loaded file contains 4 arrays:\n",
    "\n",
    "* An array `X` that contains all the states in the MDP. There is a total of 73 states describing the possible positions of the agent in the environment and whether or not the agent has each of the two keys. Those states are represented as strings taking one of the forms `\"N\"`, indicating that the agent is in cell `N`, `\"NR\"`, indicating that the agent is in cell `N` with the red key, `\"NRB\"`, indicating that the agent is in cell `N` with both keys, or `\"E\"`, indicating that the agent has reached the exit.\n",
    "* An array `A` that contains all the actions in the MDP. Each action is represented as a string `\"u\"`, `\"d\"`, `\"l\"` or `\"r\"`.\n",
    "* An array `P` containing 4 $73\\times 73$ sub-arrays, each corresponding to the transition probability matrix for one action.\n",
    "* An array `c` containing the cost function for the MDP.\n",
    "\n",
    "Your function should create the MDP as a tuple `(X, A, (Pa, a = 0, ..., 3), c, g)`, where `X` is a tuple containing the states in the MDP represented as strings (see above), `A` is a tuple containing the actions in the MDP represented as strings (see above), `P` is a tuple with 4 elements, where `P[a]` is an np.array corresponding to the transition probability matrix for action `a`, `c` is an np.array corresponding to the cost function for the MDP, and `g` is a float, corresponding to the discount and provided as the argument $\\gamma$ of your function. Your function should return the MDP tuple.\n",
    "\n",
    "**Note**: Don't forget to import `numpy`.\n",
    "\n",
    "---"
   ]
  },
  {
   "cell_type": "code",
   "execution_count": 4,
   "metadata": {},
   "outputs": [],
   "source": [
    "import numpy as np\n",
    "import numpy.random as rand\n",
    "import time \n"
   ]
  },
  {
   "cell_type": "code",
   "execution_count": 5,
   "metadata": {
    "ExecuteTime": {
     "end_time": "2020-10-12T13:27:33.823557Z",
     "start_time": "2020-10-12T13:27:33.547908Z"
    },
    "code_folding": [],
    "scrolled": false
   },
   "outputs": [],
   "source": [
    "# Add your code here.\n",
    "def load_mdp(file, discountFactor):\n",
    "    data = np.load(file)\n",
    "    #['X', 'A', 'P', 'c'] - states, actions, transitions, costs\n",
    "    return (data['X'],data['A'],data['P'],data['c'],discountFactor)"
   ]
  },
  {
   "cell_type": "code",
   "execution_count": 6,
   "metadata": {},
   "outputs": [
    {
     "output_type": "stream",
     "name": "stdout",
     "text": [
      "Number of states: 73\nRandom state: 9RB\nFinal state: E\nNumber of actions: 4\nRandom action: u\nTransition probabilities for the selected state/action:\n[0. 0. 0. 0. 0. 0. 0. 0. 0. 0. 0. 0. 0. 0. 0. 0. 0. 0. 0. 0. 0. 0. 0. 0.\n 0. 0. 0. 0. 0. 0. 0. 0. 0. 0. 0. 0. 0. 0. 0. 0. 0. 0. 0. 0. 0. 0. 0. 0.\n 0. 0. 0. 1. 0. 0. 0. 0. 0. 0. 0. 0. 0. 0. 0. 0. 0. 0. 0. 0. 0. 0. 0. 0.\n 0.]\nCost for the selected state/action:\n1.0\nDiscount: 0.9\n"
     ]
    }
   ],
   "source": [
    "M = load_mdp('maze.npz', 0.9)\n",
    "\n",
    "rand.seed(42)\n",
    "\n",
    "# States\n",
    "print('Number of states:', len(M[0]))\n",
    "\n",
    "# Random state\n",
    "s = rand.randint(len(M[0]))\n",
    "print('Random state:', M[0][s])\n",
    "\n",
    "# Final state\n",
    "print('Final state:', M[0][-1])\n",
    "\n",
    "# Actions\n",
    "print('Number of actions:', len(M[1]))\n",
    "\n",
    "# Random action\n",
    "a = rand.randint(len(M[1]))\n",
    "print('Random action:', M[1][a])\n",
    "\n",
    "# Transition probabilities\n",
    "print('Transition probabilities for the selected state/action:')\n",
    "print(M[2][a][s, :])\n",
    "\n",
    "# Cost\n",
    "print('Cost for the selected state/action:')\n",
    "print(M[3][s, a])\n",
    "\n",
    "# Discount\n",
    "print('Discount:', M[4])"
   ]
  },
  {
   "cell_type": "markdown",
   "metadata": {},
   "source": [
    "We provide below an example of application of the function with the file `maze.npz` that you can use as a first \"sanity check\" for your code. Note that, even fixing the seed, the results you obtain may slightly differ.\n",
    "\n",
    "```python\n",
    "import numpy.random as rand\n",
    "\n",
    "M = load_mdp('maze.npz', 0.9)\n",
    "\n",
    "rand.seed(42)\n",
    "\n",
    "# States\n",
    "print('Number of states:', len(M[0]))\n",
    "\n",
    "# Random state\n",
    "s = rand.randint(len(M[0]))\n",
    "print('Random state:', M[0][s])\n",
    "\n",
    "# Final state\n",
    "print('Final state:', M[0][-1])\n",
    "\n",
    "# Actions\n",
    "print('Number of actions:', len(M[1]))\n",
    "\n",
    "# Random action\n",
    "a = rand.randint(len(M[1]))\n",
    "print('Random action:', M[1][a])\n",
    "\n",
    "# Transition probabilities\n",
    "print('Transition probabilities for the selected state/action:')\n",
    "print(M[2][a][s, :])\n",
    "\n",
    "# Cost\n",
    "print('Cost for the selected state/action:')\n",
    "print(M[3][s, a])\n",
    "\n",
    "# Discount\n",
    "print('Discount:', M[4])\n",
    "```\n",
    "\n",
    "Output:\n",
    "\n",
    "```\n",
    "Number of states: 73\n",
    "Random state: 9RB\n",
    "Final state: E\n",
    "Number of actions: 4\n",
    "Random action: u\n",
    "Transition probabilities for the selected state/action:\n",
    "[0. 0. 0. 0. 0. 0. 0. 0. 0. 0. 0. 0. 0. 0. 0. 0. 0. 0. 0. 0. 0. 0. 0. 0.\n",
    " 0. 0. 0. 0. 0. 0. 0. 0. 0. 0. 0. 0. 0. 0. 0. 0. 0. 0. 0. 0. 0. 0. 0. 0.\n",
    " 0. 0. 0. 1. 0. 0. 0. 0. 0. 0. 0. 0. 0. 0. 0. 0. 0. 0. 0. 0. 0. 0. 0. 0.\n",
    " 0.]\n",
    "Cost for the selected state/action:\n",
    "1.0\n",
    "Discount: 0.9\n",
    "```"
   ]
  },
  {
   "cell_type": "markdown",
   "metadata": {},
   "source": [
    "### 2. Prediction\n",
    "\n",
    "You are now going to evaluate a given policy, computing the corresponding cost-to-go."
   ]
  },
  {
   "cell_type": "markdown",
   "metadata": {
    "raw_mimetype": "text/latex"
   },
   "source": [
    "---\n",
    "\n",
    "#### Activity 2.\n",
    "\n",
    "Write a function `noisy_policy` that builds a noisy policy \"around\" a provided action. Your function should receive, as input, an MDP described as a tuple like that of **Activity 1**, an integer `a`, corresponding to the index of an action in the MDP, and a real number `eps`. The function should return, as output, a policy for the provided MDP that selects action with index `a` with a probability `1-eps` and, with probability `eps`, selects another action uniformly at random. The policy should be a `numpy` array with as many rows as states and as many columns as actions, where the element in position `[s,a]` should contain the probability of action `a` in state `s` according to the desired policy. \n",
    "\n",
    "---"
   ]
  },
  {
   "cell_type": "code",
   "execution_count": 7,
   "metadata": {
    "ExecuteTime": {
     "end_time": "2020-10-12T13:27:33.832346Z",
     "start_time": "2020-10-12T13:27:33.825552Z"
    },
    "code_folding": []
   },
   "outputs": [],
   "source": [
    "# Add your code here.\n",
    "def noisy_policy(mdp, a, eps):\n",
    "    n_states = len(mdp[0])\n",
    "    n_actions = len(mdp[1])\n",
    "    \n",
    "    action_prob = eps / (n_actions - 1)\n",
    "    policy_row = np.zeros((1, n_actions))\n",
    "    \n",
    "    for i in range(n_actions):\n",
    "        policy_row[0][i] = action_prob\n",
    "    \n",
    "    policy_row[0][a] = 1 - eps \n",
    "    \n",
    "    policy = np.tile(policy_row, (n_states, 1))\n",
    "    \n",
    "    return policy"
   ]
  },
  {
   "cell_type": "code",
   "execution_count": 8,
   "metadata": {},
   "outputs": [
    {
     "output_type": "stream",
     "name": "stdout",
     "text": [
      "Random state: 15\nNoiseless policy at selected state: [0. 0. 1. 0.]\nNoisy policy at selected state: [0.03333333 0.03333333 0.9        0.03333333]\nRandom policy at selected state: [0.25 0.25 0.25 0.25]\n"
     ]
    }
   ],
   "source": [
    "# Noiseless policy for action \"Left\" (action index: 2)\n",
    "pol_noiseless = noisy_policy(M, 2, 0.)\n",
    "\n",
    "# Random state\n",
    "s = rand.randint(len(M[0]))\n",
    "\n",
    "# Policy at selected state\n",
    "print('Random state:', M[0][s])\n",
    "print('Noiseless policy at selected state:', pol_noiseless[s, :])\n",
    "\n",
    "# Noisy policy for action \"Left\" (action index: 2)\n",
    "pol_noisy = noisy_policy(M, 2, 0.1)\n",
    "\n",
    "# Policy at selected state\n",
    "print('Noisy policy at selected state:', pol_noisy[s, :])\n",
    "\n",
    "# Random policy for action \"Left\" (action index: 2)\n",
    "pol_random = noisy_policy(M, 2, 0.75)\n",
    "\n",
    "# Policy at selected state\n",
    "print('Random policy at selected state:', pol_random[s, :])"
   ]
  },
  {
   "cell_type": "markdown",
   "metadata": {},
   "source": [
    "We provide below an example of application of the function with MDP from the example in **Activity 1**, that you can use as a first \"sanity check\" for your code. Note that, even fixing the seed, the results you obtain may slightly differ. Note also that your function should work with **any** MDP that is specified as a tuple like the one from **Activity 1**.\n",
    "\n",
    "```python\n",
    "# Noiseless policy for action \"Left\" (action index: 2)\n",
    "pol_noiseless = noisy_policy(M, 2, 0.)\n",
    "\n",
    "# Random state\n",
    "s = rand.randint(len(M[0]))\n",
    "\n",
    "# Policy at selected state\n",
    "print('Random state:', M[0][s])\n",
    "print('Noiseless policy at selected state:', pol_noiseless[s, :])\n",
    "\n",
    "# Noisy policy for action \"Left\" (action index: 2)\n",
    "pol_noisy = noisy_policy(M, 2, 0.1)\n",
    "\n",
    "# Policy at selected state\n",
    "print('Noisy policy at selected state:', pol_noisy[s, :])\n",
    "\n",
    "# Random policy for action \"Left\" (action index: 2)\n",
    "pol_random = noisy_policy(M, 2, 0.75)\n",
    "\n",
    "# Policy at selected state\n",
    "print('Random policy at selected state:', pol_random[s, :])\n",
    "```\n",
    "\n",
    "Output:\n",
    "\n",
    "```\n",
    "Random state: 15\n",
    "Noiseless policy at selected state: [0. 0. 1. 0.]\n",
    "Noisy policy at selected state: [0.03 0.03 0.9  0.03]\n",
    "Random policy at selected state: [0.25 0.25 0.25 0.25]\n",
    "```"
   ]
  },
  {
   "cell_type": "markdown",
   "metadata": {},
   "source": [
    "---\n",
    "---\n",
    "---\n",
    "Your function should create the MDP as a tuple `(X, A, (Pa, a = 0, ..., 3), c, g)`, where `X` is a tuple containing the states in the MDP represented as strings (see above), `A` is a tuple containing the actions in the MDP represented as strings (see above), `P` is a tuple with 4 elements, where `P[a]` is an np.array corresponding to the transition probability matrix for action `a`, `c` is an np.array corresponding to the cost function for the MDP, and `g` is a float, corresponding to the discount and provided as the argument $\\gamma$ of your function. Your function should return the MDP tuple."
   ]
  },
  {
   "cell_type": "markdown",
   "metadata": {},
   "source": [
    "---\n",
    "\n",
    "#### Activity 3.\n",
    "\n",
    "You will now write a function called `evaluate_pol` that evaluates a given policy. Your function should receive, as an input, an MDP described as a tuple like that of **Activity 1** and a policy described as an array like that of **Activity 2** and return a `numpy` array corresponding to the cost-to-go function associated with the given policy.\n",
    "\n",
    "---"
   ]
  },
  {
   "cell_type": "code",
   "execution_count": 9,
   "metadata": {},
   "outputs": [],
   "source": [
    "def get_expected_cost(pol, costF, nStates):\n",
    "    expectedCost = np.zeros((nStates, 1))\n",
    "\n",
    "    for r in range(nStates):\n",
    "        actionCosts = costF[r]\n",
    "        policy = pol[r]\n",
    "\n",
    "        expectedCost[r] = np.dot(policy, np.transpose(actionCosts))\n",
    "    \n",
    "    return expectedCost"
   ]
  },
  {
   "cell_type": "code",
   "execution_count": 10,
   "metadata": {},
   "outputs": [],
   "source": [
    "def get_state_process(pol, costF, pMat, nActions, nStates):\n",
    "    stateProcessAux = np.zeros((nActions, nStates, nStates))\n",
    "    stateProcess = np.zeros((nStates, nStates))\n",
    "\n",
    "    for r in range(nStates):\n",
    "        actionCosts = costF[r]\n",
    "        policy = pol[r]\n",
    "        \n",
    "        for a in range(nActions):\n",
    "            stateProcessAux[a][r] = policy[a] * pMat[a][r]\n",
    "    \n",
    "    for a in range(nActions):\n",
    "        stateProcess = np.add(stateProcess, stateProcessAux[a])\n",
    "        \n",
    "    return stateProcess"
   ]
  },
  {
   "cell_type": "code",
   "execution_count": 103,
   "metadata": {
    "ExecuteTime": {
     "end_time": "2020-10-12T13:27:33.849576Z",
     "start_time": "2020-10-12T13:27:33.834704Z"
    },
    "code_folding": []
   },
   "outputs": [],
   "source": [
    "# Add your code here.\n",
    "def evaluate_pol(mdp, pol):\n",
    "    nStates = len(mdp[0])\n",
    "    nActions = len(mdp[1])\n",
    "    pMat = mdp[2]\n",
    "    costF = mdp[3]\n",
    "    gamma = mdp[4]\n",
    "\n",
    "    expectedCost = get_expected_cost(pol, costF, nStates)\n",
    "    stateProcess = get_state_process(pol, costF, pMat, nActions, nStates)\n",
    "\n",
    "    identity = np.eye(nStates, nStates)\n",
    "    auxCalc = np.subtract(identity, (gamma * stateProcess))\n",
    "    Jpi = np.dot(np.linalg.inv(auxCalc), expectedCost)\n",
    "        \n",
    "    return Jpi"
   ]
  },
  {
   "cell_type": "code",
   "execution_count": 104,
   "metadata": {},
   "outputs": [
    {
     "output_type": "stream",
     "name": "stdout",
     "text": [
      "Cost to go at state 9RB: [9.99995537]\nCost to go at state 15: [10.]\nCost to go at state 29RB: [9.60283189]\n"
     ]
    }
   ],
   "source": [
    "Jpi = evaluate_pol(M, pol_noisy)\n",
    "\n",
    "rand.seed(42)\n",
    "\n",
    "s = rand.randint(len(M[0]))\n",
    "print('Cost to go at state %s:' % M[0][s], Jpi[s])\n",
    "\n",
    "s = rand.randint(len(M[0]))\n",
    "print('Cost to go at state %s:' % M[0][s], Jpi[s])\n",
    "\n",
    "s = rand.randint(len(M[0]))\n",
    "print('Cost to go at state %s:' % M[0][s], Jpi[s])"
   ]
  },
  {
   "cell_type": "markdown",
   "metadata": {},
   "source": [
    "As an example, you can evaluate the random policy from **Activity 2** in the MDP from **Activity 1**.\n",
    "\n",
    "```python\n",
    "Jpi = evaluate_pol(M, pol_noisy)\n",
    "\n",
    "rand.seed(42)\n",
    "\n",
    "s = rand.randint(len(M[0]))\n",
    "print('Cost to go at state %s:' % M[0][s], Jpi[s])\n",
    "\n",
    "s = rand.randint(len(M[0]))\n",
    "print('Cost to go at state %s:' % M[0][s], Jpi[s])\n",
    "\n",
    "s = rand.randint(len(M[0]))\n",
    "print('Cost to go at state %s:' % M[0][s], Jpi[s])\n",
    "```\n",
    "\n",
    "Output: \n",
    "```\n",
    "Cost to go at state 9RB: [10.]\n",
    "Cost to go at state 15: [10.]\n",
    "Cost to go at state 29RB: [9.6]\n",
    "```"
   ]
  },
  {
   "cell_type": "markdown",
   "metadata": {},
   "source": [
    "### 3. Control\n",
    "\n",
    "In this section you are going to compare value and policy iteration, both in terms of time and number of iterations."
   ]
  },
  {
   "cell_type": "markdown",
   "metadata": {},
   "source": [
    "---\n",
    "\n",
    "#### Activity 4\n",
    "\n",
    "In this activity you will show that the policy in Activity 3 is _not_ optimal. For that purpose, you will use value iteration to compute the optimal cost-to-go, $J^*$, and show that $J^*\\neq J^\\pi$. \n",
    "\n",
    "Write a function called `value_iteration` that receives as input an MDP represented as a tuple like that of **Activity 1** and returns an `numpy` array corresponding to the optimal cost-to-go function associated with that MDP. Before returning, your function should print:\n",
    "\n",
    "* The time it took to run, in the format `Execution time: xxx seconds`, where `xxx` represents the number of seconds rounded up to $3$ decimal places.\n",
    "* The number of iterations, in the format `N. iterations: xxx`, where `xxx` represents the number of iterations.\n",
    "\n",
    "**Note 1:** Stop the algorithm when the error between iterations is smaller than $10^{-8}$.\n",
    "\n",
    "**Note 2:** You may find useful the function ``time()`` from the module ``time``.\n",
    "\n",
    "---"
   ]
  },
  {
   "cell_type": "code",
   "execution_count": 117,
   "metadata": {
    "ExecuteTime": {
     "end_time": "2020-10-12T13:27:33.868792Z",
     "start_time": "2020-10-12T13:27:33.852743Z"
    },
    "code_folding": [],
    "scrolled": false
   },
   "outputs": [],
   "source": [
    "def value_iteration(mdp):\n",
    "    tInit = time.time()\n",
    "    nStates = len(mdp[0])\n",
    "    nActions = len(mdp[1])\n",
    "    pMat = mdp[2]\n",
    "    costF = mdp[3]\n",
    "    gamma = mdp[4]\n",
    "\n",
    "    J = np.zeros((nStates, 1))\n",
    "    Q = np.zeros((nActions, nStates,1))\n",
    "    err = 1\n",
    "    i = 0\n",
    "    \n",
    "    while(err > 1e-8):\n",
    "        for a in range(nActions):\n",
    "            Ca = costF[:, a, None]\n",
    "            Pa = pMat[a]\n",
    "            Q[a] = Ca + (gamma * np.dot(pMat[a], J))\n",
    "        Jnew = np.min(Q, axis=0)\n",
    "        err = np.linalg.norm(Jnew - J)\n",
    "        J = Jnew\n",
    "        i += 1\n",
    "    \n",
    "    tEnd = time.time()\n",
    "    tElapsed = tEnd - tInit\n",
    "\n",
    "    print(\"Execution time: {0:.{1}f} seconds\".format(tElapsed,3))\n",
    "    print(\"N. iterations: {}\".format(i))\n",
    "\n",
    "    return J"
   ]
  },
  {
   "cell_type": "code",
   "execution_count": 118,
   "metadata": {},
   "outputs": [
    {
     "output_type": "stream",
     "name": "stdout",
     "text": [
      "Execution time: 0.007 seconds\nN. iterations: 73\nCost to go at state 9RB: [6.82025962]\nCost to go at state 15: [9.79285084]\nCost to go at state 29RB: [1.]\n\nIs the policy from Activity 2 optimal? False\n"
     ]
    }
   ],
   "source": [
    "#Sanity Check\n",
    "Jopt = value_iteration(M)\n",
    "\n",
    "rand.seed(42)\n",
    "\n",
    "s = rand.randint(len(M[0]))\n",
    "print('Cost to go at state %s:' % M[0][s], Jopt[s])\n",
    "\n",
    "s = rand.randint(len(M[0]))\n",
    "print('Cost to go at state %s:' % M[0][s], Jopt[s])\n",
    "\n",
    "s = rand.randint(len(M[0]))\n",
    "print('Cost to go at state %s:' % M[0][s], Jopt[s])\n",
    "\n",
    "print('\\nIs the policy from Activity 2 optimal?', np.all(np.isclose(Jopt, Jpi)))"
   ]
  },
  {
   "cell_type": "markdown",
   "metadata": {},
   "source": [
    "For example, the optimal cost-to-go for the MDP from **Activity 1** is can be computed as follows.\n",
    "\n",
    "```python\n",
    "Jopt = value_iteration(M)\n",
    "\n",
    "rand.seed(42)\n",
    "\n",
    "s = rand.randint(len(M[0]))\n",
    "print('Cost to go at state %s:' % M[0][s], Jopt[s])\n",
    "\n",
    "s = rand.randint(len(M[0]))\n",
    "print('Cost to go at state %s:' % M[0][s], Jopt[s])\n",
    "\n",
    "s = rand.randint(len(M[0]))\n",
    "print('Cost to go at state %s:' % M[0][s], Jopt[s])\n",
    "\n",
    "print('\\nIs the policy from Activity 2 optimal?', np.all(np.isclose(Jopt, Jpi)))\n",
    "```\n",
    "\n",
    "Output:\n",
    "```\n",
    "Execution time: 0.006 seconds\n",
    "N. iterations: 73\n",
    "Cost to go at state 9RB: [6.82]\n",
    "Cost to go at state 15: [9.79]\n",
    "Cost to go at state 29RB: [1.]\n",
    "\n",
    "Is the policy from Activity 2 optimal? False\n",
    "```"
   ]
  },
  {
   "cell_type": "markdown",
   "metadata": {},
   "source": [
    "---\n",
    "\n",
    "#### Activity 5\n",
    "\n",
    "You will now compute the optimal policy using policy iteration. Write a function called `policy_iteration` that receives as input an MDP represented as a tuple like that of **Activity 1** and returns an `numpy` array corresponding to the optimal policy associated with that MDP. Your function should print the time it takes to run before returning, in the format `Execution time: xxx seconds`, where `xxx` represents the number of seconds rounded up to $3$ decimal places.\n",
    "\n",
    "**Note:** If you find that numerical errors affect your computations (especially when comparing two values/arrays) you may use the `numpy` function `isclose` with adequately set absolute and relative tolerance parameters (e.g., $10^{-8}$).\n",
    "\n",
    "---"
   ]
  },
  {
   "cell_type": "code",
   "execution_count": 115,
   "metadata": {
    "ExecuteTime": {
     "end_time": "2020-10-12T13:27:33.887567Z",
     "start_time": "2020-10-12T13:27:33.870820Z"
    },
    "code_folding": [],
    "scrolled": false
   },
   "outputs": [],
   "source": [
    "def policy_iteration(mdp):\n",
    "    nStates = len(mdp[0])\n",
    "    nActions = len(mdp[1])\n",
    "    pMat = mdp[2]\n",
    "    costF = mdp[3]\n",
    "    gamma = mdp[4]\n",
    "\n",
    "    tInit = time.time()\n",
    "    i = 0\n",
    "    quitting = False\n",
    "    pi = np.ones((nStates, nActions))\n",
    "\n",
    "    while not quitting:\n",
    "        J = evaluate_pol(mdp,pi)\n",
    "        Q = []\n",
    "        piNew = np.zeros((nStates, nActions))\n",
    "\n",
    "        for aI in range(nActions):\n",
    "            Q.append(costF[:, aI, None] + gamma * pMat[aI].dot(J))\n",
    "\n",
    "        for aI in range(nActions):\n",
    "            piNew[:, aI, None] = np.isclose(Q[aI], np.min(Q, axis=0), atol=1e-10,  rtol=1e-10).astype(int)\n",
    "\n",
    "        piNew = piNew / np.sum(piNew, axis=1, keepdims=True)\n",
    "        quitting = (pi==piNew).all()\n",
    "        pi = piNew\n",
    "        i += 1\n",
    "    \n",
    "    tEnd = time.time()\n",
    "    \n",
    "    print(\"Execution time: {0:.{1}f} seconds\".format(tEnd-tInit,3))\n",
    "    print(\"N. iterations: {}\".format(i))\n",
    "\n",
    "    return pi"
   ]
  },
  {
   "cell_type": "code",
   "execution_count": 116,
   "metadata": {},
   "outputs": [
    {
     "output_type": "stream",
     "name": "stdout",
     "text": [
      "Execution time: 0.036 seconds\nN. iterations: 5\nPolicy at state 9RB: l\nPolicy at state 29RB: r\nPolicy at state 8R: u\n"
     ]
    }
   ],
   "source": [
    "popt = policy_iteration(M)\n",
    "\n",
    "rand.seed(42)\n",
    "\n",
    "# Select random state, and action using the policy computed\n",
    "s = rand.randint(len(M[0]))\n",
    "a = rand.choice(len(M[1]), p=popt[s, :])\n",
    "print('Policy at state %s: %s' % (M[0][s], M[1][a]))\n",
    "\n",
    "# Select random state, and action using the policy computed\n",
    "s = rand.randint(len(M[0]))\n",
    "a = rand.choice(len(M[1]), p=popt[s, :])\n",
    "print('Policy at state %s: %s' % (M[0][s], M[1][a]))\n",
    "\n",
    "# Select random state, and action using the policy computed\n",
    "s = rand.randint(len(M[0]))\n",
    "a = rand.choice(len(M[1]), p=popt[s, :])\n",
    "print('Policy at state %s: %s' % (M[0][s], M[1][a]))"
   ]
  },
  {
   "cell_type": "markdown",
   "metadata": {},
   "source": [
    "For example, the optimal policy for the MDP from **Activity 1** is can be computed as follows.\n",
    "\n",
    "```python\n",
    "popt = policy_iteration(M)\n",
    "\n",
    "rand.seed(42)\n",
    "\n",
    "# Select random state, and action using the policy computed\n",
    "s = rand.randint(len(M[0]))\n",
    "a = rand.choice(len(M[1]), p=popt[s, :])\n",
    "print('Policy at state %s: %s' % (M[0][s], M[1][a]))\n",
    "\n",
    "# Select random state, and action using the policy computed\n",
    "s = rand.randint(len(M[0]))\n",
    "a = rand.choice(len(M[1]), p=popt[s, :])\n",
    "print('Policy at state %s: %s' % (M[0][s], M[1][a]))\n",
    "\n",
    "# Select random state, and action using the policy computed\n",
    "s = rand.randint(len(M[0]))\n",
    "a = rand.choice(len(M[1]), p=popt[s, :])\n",
    "print('Policy at state %s: %s' % (M[0][s], M[1][a]))\n",
    "```\n",
    "\n",
    "Output:\n",
    "```\n",
    "Execution time: 0.005 seconds\n",
    "N. iterations: 3\n",
    "Policy at state 9RB: l\n",
    "Policy at state 29RB: r\n",
    "Policy at state 8R: u\n",
    "```"
   ]
  },
  {
   "cell_type": "markdown",
   "metadata": {},
   "source": [
    "### 4. Simulation\n",
    "\n",
    "Finally, in this section you will check whether the theoretical computations of the cost-to-go actually correspond to the cost incurred by an agent following a policy."
   ]
  },
  {
   "cell_type": "markdown",
   "metadata": {},
   "source": [
    "---\n",
    "\n",
    "#### Activity 6\n",
    "\n",
    "Write a function `simulate` that receives, as inputs\n",
    "\n",
    "* An MDP represented as a tuple like that of **Activity 1**;\n",
    "* A policy, represented as an `numpy` array like that of **Activity 2**;\n",
    "* An integer, `x0`, corresponding to a state index\n",
    "* A second integer, `length`\n",
    "\n",
    "Your function should return, as an output, a float corresponding to the estimated cost-to-go associated with the provided policy at the provided state. To estimate such cost-to-go, your function should:\n",
    "\n",
    "* Generate **`NRUNS`** trajectories of `length` steps each, starting in the provided state and following the provided policy. \n",
    "* For each trajectory, compute the accumulated (discounted) cost. \n",
    "* Compute the average cost over the 100 trajectories.\n",
    "\n",
    "**Note 1:** You may find useful to import the numpy module `numpy.random`.\n",
    "\n",
    "**Note 2:** Each simulation may take a bit of time, don't despair ☺️.\n",
    "\n",
    "---"
   ]
  },
  {
   "cell_type": "code",
   "execution_count": 17,
   "metadata": {
    "ExecuteTime": {
     "end_time": "2020-10-12T13:28:19.082312Z",
     "start_time": "2020-10-12T13:27:33.889328Z"
    },
    "code_folding": [],
    "tags": []
   },
   "outputs": [
    {
     "output_type": "execute_result",
     "data": {
      "text/plain": [
       "5.0"
      ]
     },
     "metadata": {},
     "execution_count": 17
    }
   ],
   "source": [
    "NRUNS = 100\n",
    "\n",
    "# Add your code here.\n",
    "def simulate(mdp, pol, initState, length):\n",
    "    states = mdp[0]\n",
    "    actions = mdp[1]\n",
    "    pMat = mdp[2]\n",
    "    costF = mdp[3]\n",
    "\n",
    "    empiricalCosts = []\n",
    "\n",
    "    for runI in range(NRUNS):\n",
    "        cost = 0\n",
    "        currentState = initState\n",
    "\n",
    "        for stepI in range(length):\n",
    "            a = rand.choice(actions,p=pol[currentState])\n",
    "            aI = list(actions).index(a)\n",
    "\n",
    "            nextState = rand.choice(states,p=pMat[aI][currentState])\n",
    "            nextStateI = list(states).index(nextState)\n",
    "\n",
    "            cost += costF[currentState][aI]\n",
    "            currentState = nextStateI\n",
    "        \n",
    "        empiricalCosts.append(cost)\n",
    "    \n",
    "    return sum(empiricalCosts) / len(empiricalCosts)\n",
    "\n",
    "simulate(M, pol_noiseless, 0, 5)"
   ]
  },
  {
   "cell_type": "code",
   "execution_count": 18,
   "metadata": {},
   "outputs": [
    {
     "output_type": "stream",
     "name": "stdout",
     "text": [
      "Cost-to-go for state 9RB:\n\tTheoretical: [6.82025962]\n"
     ]
    },
    {
     "output_type": "error",
     "ename": "NameError",
     "evalue": "name 'popt' is not defined",
     "traceback": [
      "\u001b[0;31m---------------------------------------------------------------------------\u001b[0m",
      "\u001b[0;31mNameError\u001b[0m                                 Traceback (most recent call last)",
      "\u001b[0;32m<ipython-input-18-81598602a8dc>\u001b[0m in \u001b[0;36m<module>\u001b[0;34m\u001b[0m\n\u001b[1;32m      5\u001b[0m \u001b[0mprint\u001b[0m\u001b[0;34m(\u001b[0m\u001b[0;34m'Cost-to-go for state %s:'\u001b[0m \u001b[0;34m%\u001b[0m \u001b[0mM\u001b[0m\u001b[0;34m[\u001b[0m\u001b[0;36m0\u001b[0m\u001b[0;34m]\u001b[0m\u001b[0;34m[\u001b[0m\u001b[0ms\u001b[0m\u001b[0;34m]\u001b[0m\u001b[0;34m)\u001b[0m\u001b[0;34m\u001b[0m\u001b[0;34m\u001b[0m\u001b[0m\n\u001b[1;32m      6\u001b[0m \u001b[0mprint\u001b[0m\u001b[0;34m(\u001b[0m\u001b[0;34m'\\tTheoretical:'\u001b[0m\u001b[0;34m,\u001b[0m \u001b[0mJopt\u001b[0m\u001b[0;34m[\u001b[0m\u001b[0ms\u001b[0m\u001b[0;34m]\u001b[0m\u001b[0;34m)\u001b[0m\u001b[0;34m\u001b[0m\u001b[0;34m\u001b[0m\u001b[0m\n\u001b[0;32m----> 7\u001b[0;31m \u001b[0mprint\u001b[0m\u001b[0;34m(\u001b[0m\u001b[0;34m'\\tEmpirical:'\u001b[0m\u001b[0;34m,\u001b[0m \u001b[0msimulate\u001b[0m\u001b[0;34m(\u001b[0m\u001b[0mM\u001b[0m\u001b[0;34m,\u001b[0m \u001b[0mpopt\u001b[0m\u001b[0;34m,\u001b[0m \u001b[0ms\u001b[0m\u001b[0;34m,\u001b[0m \u001b[0;36m100\u001b[0m\u001b[0;34m)\u001b[0m\u001b[0;34m)\u001b[0m\u001b[0;34m\u001b[0m\u001b[0;34m\u001b[0m\u001b[0m\n\u001b[0m\u001b[1;32m      8\u001b[0m \u001b[0;34m\u001b[0m\u001b[0m\n\u001b[1;32m      9\u001b[0m \u001b[0;31m# Select random state, and evaluate for the optimal policy\u001b[0m\u001b[0;34m\u001b[0m\u001b[0;34m\u001b[0m\u001b[0;34m\u001b[0m\u001b[0m\n",
      "\u001b[0;31mNameError\u001b[0m: name 'popt' is not defined"
     ]
    }
   ],
   "source": [
    "rand.seed(42)\n",
    "\n",
    "# Select random state, and evaluate for the optimal policy\n",
    "s = rand.randint(len(M[0]))\n",
    "print('Cost-to-go for state %s:' % M[0][s])\n",
    "print('\\tTheoretical:', Jopt[s])\n",
    "print('\\tEmpirical:', simulate(M, popt, s, 100))\n",
    "\n",
    "# Select random state, and evaluate for the optimal policy\n",
    "s = rand.randint(len(M[0]))\n",
    "print('Cost-to-go for state %s:' % M[0][s])\n",
    "print('\\tTheoretical:', Jopt[s])\n",
    "print('\\tEmpirical:', simulate(M, popt, s, 1000))\n",
    "\n",
    "# Select random state, and evaluate for the optimal policy\n",
    "s = rand.randint(len(M[0]))\n",
    "print('Cost-to-go for state %s:' % M[0][s])\n",
    "print('\\tTheoretical:', Jopt[s])\n",
    "print('\\tEmpirical:', simulate(M, popt, s, 10000))"
   ]
  },
  {
   "cell_type": "markdown",
   "metadata": {},
   "source": [
    "For example, we can use this function to estimate the values of some random states and compare them with those from **Activity 4**.\n",
    "\n",
    "```python\n",
    "rand.seed(42)\n",
    "\n",
    "# Select random state, and evaluate for the optimal policy\n",
    "s = rand.randint(len(M[0]))\n",
    "print('Cost-to-go for state %s:' % M[0][s])\n",
    "print('\\tTheoretical:', Jopt[s])\n",
    "print('\\tEmpirical:', simulate(M, popt, s, 100))\n",
    "\n",
    "# Select random state, and evaluate for the optimal policy\n",
    "s = rand.randint(len(M[0]))\n",
    "print('Cost-to-go for state %s:' % M[0][s])\n",
    "print('\\tTheoretical:', Jopt[s])\n",
    "print('\\tEmpirical:', simulate(M, popt, s, 1000))\n",
    "\n",
    "# Select random state, and evaluate for the optimal policy\n",
    "s = rand.randint(len(M[0]))\n",
    "print('Cost-to-go for state %s:' % M[0][s])\n",
    "print('\\tTheoretical:', Jopt[s])\n",
    "print('\\tEmpirical:', simulate(M, popt, s, 10000))\n",
    "```\n",
    "\n",
    "Output:\n",
    "````\n",
    "Cost-to-go for state 9RB:\n",
    "\tTheoretical: [6.82]\n",
    "\tEmpirical: 6.864862326263111\n",
    "Cost-to-go for state 4:\n",
    "\tTheoretical: [9.94]\n",
    "\tEmpirical: 9.944922179980777\n",
    "Cost-to-go for state 5:\n",
    "\tTheoretical: [9.94]\n",
    "\tEmpirical: 9.937132279574923\n",
    "```"
   ]
  },
  {
   "cell_type": "code",
   "execution_count": null,
   "metadata": {},
   "outputs": [],
   "source": []
  },
  {
   "cell_type": "code",
   "execution_count": null,
   "metadata": {},
   "outputs": [],
   "source": []
  },
  {
   "cell_type": "code",
   "execution_count": null,
   "metadata": {},
   "outputs": [],
   "source": []
  },
  {
   "cell_type": "code",
   "execution_count": null,
   "metadata": {},
   "outputs": [],
   "source": []
  },
  {
   "cell_type": "code",
   "execution_count": null,
   "metadata": {},
   "outputs": [],
   "source": []
  },
  {
   "cell_type": "code",
   "execution_count": null,
   "metadata": {},
   "outputs": [],
   "source": []
  },
  {
   "cell_type": "code",
   "execution_count": null,
   "metadata": {},
   "outputs": [],
   "source": []
  },
  {
   "cell_type": "code",
   "execution_count": null,
   "metadata": {},
   "outputs": [],
   "source": []
  },
  {
   "cell_type": "code",
   "execution_count": null,
   "metadata": {},
   "outputs": [],
   "source": []
  }
 ],
 "metadata": {
  "celltoolbar": "Raw Cell Format",
  "kernelspec": {
   "display_name": "Python 3",
   "language": "python",
   "name": "python3"
  },
  "language_info": {
   "codemirror_mode": {
    "name": "ipython",
    "version": 3
   },
   "file_extension": ".py",
   "mimetype": "text/x-python",
   "name": "python",
   "nbconvert_exporter": "python",
   "pygments_lexer": "ipython3",
   "version": "3.8.5-final"
  },
  "latex_envs": {
   "LaTeX_envs_menu_present": true,
   "autoclose": false,
   "autocomplete": true,
   "bibliofile": "biblio.bib",
   "cite_by": "apalike",
   "current_citInitial": 1,
   "eqLabelWithNumbers": true,
   "eqNumInitial": 1,
   "hotkeys": {
    "equation": "Ctrl-E",
    "itemize": "Ctrl-I"
   },
   "labels_anchors": false,
   "latex_user_defs": false,
   "report_style_numbering": false,
   "user_envs_cfg": false
  }
 },
 "nbformat": 4,
 "nbformat_minor": 1
}